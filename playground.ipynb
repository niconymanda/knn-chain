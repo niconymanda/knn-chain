{
 "cells": [
  {
   "cell_type": "markdown",
   "metadata": {},
   "source": [
    "# Check my alg results compared to Scipys"
   ]
  },
  {
   "cell_type": "code",
   "execution_count": 1,
   "metadata": {},
   "outputs": [],
   "source": [
    "from scipy.cluster.hierarchy import ward, complete, average, weighted, fcluster, dendrogram, linkage\n",
    "from scipy.spatial.distance import pdist\n",
    "\n",
    "from nn_chain_algorithm import nn_chain\n",
    "from argmin_test import test_nn_chain\n",
    "# from nn_chain_algorithm_standard import standard_nn_chain, condensed_index\n",
    "\n",
    "import numpy as np\n",
    "import matplotlib.pyplot as plt\n",
    "import time\n"
   ]
  },
  {
   "cell_type": "code",
   "execution_count": 2,
   "metadata": {},
   "outputs": [],
   "source": [
    "import random\n",
    "\n",
    "# Function to create a 2D list of random integers\n",
    "def create_random_2d_list(rows, cols, min_val, max_val):\n",
    "    return np.array([[random.randint(min_val, max_val) for _ in range(cols)] for _ in range(rows)])\n",
    "# # Example usage\n",
    "# rows = 10\n",
    "# cols = 10\n",
    "# min_val = 1\n",
    "# max_val = 20\n",
    "# X = create_random_2d_list(rows, cols, min_val, max_val)"
   ]
  },
  {
   "cell_type": "code",
   "execution_count": 2,
   "metadata": {},
   "outputs": [],
   "source": [
    "X = np.array([[10, 10], [6,3], [13,17.5], [17,15], [1, 12.5], [0,3], [19,15], [13,20.5]])"
   ]
  },
  {
   "cell_type": "code",
   "execution_count": 3,
   "metadata": {},
   "outputs": [
    {
     "data": {
      "image/png": "[encoded data removed]",
      "text/plain": [
       "<Figure size 640x480 with 1 Axes>"
      ]
     },
     "metadata": {},
     "output_type": "display_data"
    }
   ],
   "source": [
    "plt.scatter(X[:, 0], X[:, 1])\n",
    "for i, c in enumerate(X):\n",
    "\n",
    "    label = i, list(c)\n",
    "\n",
    "    plt.annotate(label,\n",
    "                 (c),\n",
    "                 textcoords=\"offset points\",\n",
    "                 xytext=(0,10),\n",
    "                 ha='center')\n",
    "\n",
    "plt.grid()\n",
    "plt.show()"
   ]
  },
  {
   "cell_type": "code",
   "execution_count": 4,
   "metadata": {},
   "outputs": [
    {
     "name": "stdout",
     "output_type": "stream",
     "text": [
      "x = 0\n",
      "knn of x = (array([0, 0, 0]), True)\n",
      "condition of size of all knns of x = (array([1, 1, 1], dtype=int32), False)\n",
      "all distances to x = [inf, 4.031128874149275, 4.038873605350878, 4.301162633521313, 4.670385423067351, 6.103277807866851, 5.1478150704935, 5.460082416960389]\n",
      "original y = 1\n",
      "knn[x] = [1 2 3]\n",
      "dists = [4.03112887 4.03887361 4.30116263]\n",
      "y = 1\n",
      "\n",
      "x = 1\n",
      "knn of x = (array([0, 0, 0]), True)\n",
      "condition of size of all knns of x = (array([1, 1, 1], dtype=int32), False)\n",
      "all distances to x = [4.031128874149275, inf, 8.050621094052309, 8.139410298049853, 5.367727638395972, 3.0, 8.845903006477066, 9.424038412485382]\n",
      "original y = 5\n",
      "knn[x] = [5 0 4]\n",
      "dists = [3.         4.03112887 5.36772764]\n",
      "y = 5\n",
      "\n",
      "x = 5\n",
      "knn of x = (array([0, 0, 0]), True)\n",
      "condition of size of all knns of x = (array([1, 1, 1], dtype=int32), False)\n",
      "all distances to x = [6.103277807866851, 3.0, 9.737171047075224, 10.404326023342406, 4.7762432936357, inf, 11.236102527122116, 10.90011467829582]\n",
      "original y = 1\n",
      "knn[x] = [1 4 0]\n",
      "dists = [3.         4.77624329 6.10327781]\n",
      "y = 1\n",
      "clusters reciprocal; merging 5 and 1\n",
      "centroid = [3. 3.]\n",
      "\n",
      "\n",
      "x = 0\n",
      "knn of x = (array([1, 2, 3], dtype=int64), False)\n",
      "condition of size of all knns of x = (array([0, 1, 1], dtype=int32), False)\n",
      "original y = 1\n",
      "original y has been merged\n",
      "split i = 1\n",
      "knn[x] = [2 3]\n",
      "dists = [4.03887361 4.30116263]\n",
      "y = 2\n",
      "\n",
      "x = 2\n",
      "knn of x = (array([0, 0, 0]), True)\n",
      "condition of size of all knns of x = (array([1, 1, 1], dtype=int32), False)\n",
      "all distances to x = [4.038873605350878, inf, inf, 2.358495283014151, 6.5, inf, 3.25, 1.5, 11.74260996920569]\n",
      "original y = 7\n",
      "knn[x] = [7 3 6]\n",
      "dists = [1.5        2.35849528 3.25      ]\n",
      "y = 7\n",
      "\n",
      "x = 7\n",
      "knn of x = (array([0, 0, 0]), True)\n",
      "condition of size of all knns of x = (array([1, 1, 1], dtype=int32), False)\n",
      "all distances to x = [5.460082416960389, inf, 1.5, 3.400367627183861, 7.211102550927978, inf, 4.0697051490249265, inf, 13.437096247164249]\n",
      "original y = 2\n",
      "knn[x] = [2 3 6]\n",
      "dists = [1.5        3.40036763 4.06970515]\n",
      "y = 2\n",
      "clusters reciprocal; merging 7 and 2\n",
      "centroid = [13. 19.]\n",
      "\n",
      "\n",
      "x = 0\n",
      "knn of x = (array([2, 3], dtype=int64), False)\n",
      "condition of size of all knns of x = (array([0, 1], dtype=int32), False)\n",
      "original y = 2\n",
      "original y has been merged\n",
      "split i = 1\n",
      "knn[x] = [3]\n",
      "dists = [4.30116263]\n",
      "y = 3\n",
      "\n",
      "x = 3\n",
      "knn of x = (array([0, 0, 0]), True)\n",
      "condition of size of all knns of x = (array([1, 1, 1], dtype=int32), False)\n",
      "all distances to x = [4.301162633521313, inf, inf, inf, 8.097067370350823, inf, 1.0, inf, 12.292725943057182, 3.7712361663282534]\n",
      "original y = 6\n",
      "knn[x] = [6 9 0]\n",
      "dists = [1.         3.77123617 4.30116263]\n",
      "y = 6\n",
      "\n",
      "x = 6\n",
      "knn of x = (array([0, 0, 0]), True)\n",
      "condition of size of all knns of x = (array([1, 1, 1], dtype=int32), False)\n",
      "all distances to x = [5.1478150704935, inf, inf, 1.0, 9.086390922693123, inf, inf, inf, 13.333333333333332, 4.807401700618652]\n",
      "original y = 3\n",
      "knn[x] = [3 9 0]\n",
      "dists = [1.         4.8074017  5.14781507]\n",
      "y = 3\n",
      "clusters reciprocal; merging 6 and 3\n",
      "centroid = [18. 15.]\n",
      "\n",
      "\n",
      "x = 0\n",
      "knn of x = (array([3], dtype=int64), False)\n",
      "condition of size of all knns of x = (array([0], dtype=int32), True)\n",
      "all distances to x = [inf, inf, inf, inf, 4.670385423067351, inf, inf, inf, 6.599663291074443, 6.324555320336758, 6.289320754704402]\n",
      "original y = 4\n",
      "knn[x] = [ 4 10  9]\n",
      "dists = [4.67038542 6.28932075 6.32455532]\n",
      "y = 4\n",
      "\n",
      "x = 4\n",
      "knn of x = (array([0, 0, 0]), True)\n",
      "condition of size of all knns of x = (array([1, 1, 1], dtype=int32), False)\n",
      "all distances to x = [4.670385423067351, inf, inf, inf, inf, inf, inf, inf, 6.472162612982533, 9.098229375970787, 11.455226851626387]\n",
      "original y = 0\n",
      "knn[x] = [0 8 9]\n",
      "dists = [4.67038542 6.47216261 9.09822938]\n",
      "y = 0\n",
      "clusters reciprocal; merging 4 and 0\n",
      "centroid = [ 5.5  11.25]\n",
      "\n",
      "\n",
      "x = 8\n",
      "knn of x = (array([0, 0, 0]), True)\n",
      "condition of size of all knns of x = (array([0, 0, 0], dtype=int32), True)\n",
      "all distances to x = [inf, inf, inf, inf, inf, inf, inf, inf, inf, 18.867962264113206, 19.209372712298546, 8.620469824783333]\n",
      "original y = 11\n",
      "knn[x] = [11  9 10]\n",
      "dists = [ 8.62046982 18.86796226 19.20937271]\n",
      "y = 11\n",
      "\n",
      "x = 11\n",
      "knn of x = (array([0, 0, 0]), True)\n",
      "condition of size of all knns of x = (array([0, 0, 0], dtype=int32), True)\n",
      "all distances to x = [inf, inf, inf, inf, inf, inf, inf, inf, 8.620469824783333, 10.784827305061496, 13.050383136138187, inf]\n",
      "original y = 8\n",
      "knn[x] = [ 8  9 10]\n",
      "dists = [ 8.62046982 10.78482731 13.05038314]\n",
      "y = 8\n",
      "clusters reciprocal; merging 11 and 8\n",
      "centroid = [4.25  7.125]\n",
      "\n",
      "\n",
      "x = 9\n",
      "knn of x = (array([0, 0, 0]), True)\n",
      "condition of size of all knns of x = (array([0, 0, 0], dtype=int32), True)\n",
      "all distances to x = [inf, inf, inf, inf, inf, inf, inf, inf, inf, inf, 6.4031242374328485, inf, 19.667372868676576]\n",
      "original y = 10\n",
      "knn[x] = [10 12 11]\n",
      "dists = [ 6.40312424 19.66737287         inf]\n",
      "y = 10\n",
      "\n",
      "x = 10\n",
      "knn of x = (array([0, 0, 0]), True)\n",
      "condition of size of all knns of x = (array([0, 0, 0], dtype=int32), True)\n",
      "all distances to x = [inf, inf, inf, inf, inf, inf, inf, inf, inf, 6.4031242374328485, inf, inf, 21.127259905418665]\n",
      "original y = 9\n",
      "knn[x] = [ 9 12 11]\n",
      "dists = [ 6.40312424 21.12725991         inf]\n",
      "y = 9\n",
      "clusters reciprocal; merging 10 and 9\n",
      "centroid = [15.5 17. ]\n",
      "\n",
      "\n",
      "x = 12\n",
      "knn of x = (array([0, 0, 0]), True)\n",
      "condition of size of all knns of x = (array([0, 0, 0], dtype=int32), True)\n",
      "all distances to x = [inf, inf, inf, inf, inf, inf, inf, inf, inf, inf, inf, inf, inf, 29.938478585258803]\n",
      "original y = 13\n",
      "knn[x] = [13 10 12]\n",
      "dists = [29.93847859         inf         inf]\n",
      "y = 13\n",
      "\n",
      "x = 13\n",
      "knn of x = (array([0, 0, 0]), True)\n",
      "condition of size of all knns of x = (array([0, 0, 0], dtype=int32), True)\n",
      "all distances to x = [inf, inf, inf, inf, inf, inf, inf, inf, inf, inf, inf, inf, 29.938478585258803, inf]\n",
      "original y = 12\n",
      "knn[x] = [12 10  8]\n",
      "dists = [29.93847859         inf         inf]\n",
      "y = 12\n",
      "clusters reciprocal; merging 13 and 12\n",
      "centroid = [ 9.875  12.0625]\n",
      "\n",
      "\n"
     ]
    }
   ],
   "source": [
    "A = nn_chain(X, 3)"
   ]
  },
  {
   "cell_type": "code",
   "execution_count": 5,
   "metadata": {},
   "outputs": [
    {
     "name": "stdout",
     "output_type": "stream",
     "text": [
      "x = 0\n",
      "knn of x = (array([0, 0, 0]), True)\n",
      "condition of size of all knns of x = (array([1, 1, 1], dtype=int32), False)\n",
      "original y = 1\n",
      "knn[x] = [1 2 3]\n",
      "dists = [4.03112887 4.03887361 4.30116263]\n",
      "y = 1\n",
      "\n",
      "x = 1\n",
      "knn of x = (array([0, 0, 0]), True)\n",
      "condition of size of all knns of x = (array([1, 1, 1], dtype=int32), False)\n",
      "original y = 5\n",
      "knn[x] = [5 0 4]\n",
      "dists = [3.         4.03112887 5.36772764]\n",
      "y = 5\n",
      "\n",
      "x = 5\n",
      "knn of x = (array([0, 0, 0]), True)\n",
      "condition of size of all knns of x = (array([1, 1, 1], dtype=int32), False)\n",
      "original y = 1\n",
      "knn[x] = [1 4 0]\n",
      "dists = [3.         4.77624329 6.10327781]\n",
      "y = 1\n",
      "clusters reciprocal; merging 5 and 1\n",
      "centroid = [3. 3.]\n",
      "\n",
      "\n",
      "x = 0\n",
      "knn of x = (array([1, 2, 3], dtype=int64), False)\n",
      "condition of size of all knns of x = (array([0, 1, 1], dtype=int32), False)\n",
      "original y = 1\n",
      "original y has been merged\n",
      "split i = 1\n",
      "knn[x] = [2 3 8]\n",
      "dists = [4.03887361 4.30116263 6.59966329]\n",
      "y = 2\n",
      "\n",
      "x = 2\n",
      "knn of x = (array([0, 0, 0]), True)\n",
      "condition of size of all knns of x = (array([1, 1, 1], dtype=int32), False)\n",
      "original y = 7\n",
      "knn[x] = [7 3 6]\n",
      "dists = [1.5        2.35849528 3.25      ]\n",
      "y = 7\n",
      "\n",
      "x = 7\n",
      "knn of x = (array([0, 0, 0]), True)\n",
      "condition of size of all knns of x = (array([1, 1, 1], dtype=int32), False)\n",
      "original y = 2\n",
      "knn[x] = [2 3 6]\n",
      "dists = [1.5        3.40036763 4.06970515]\n",
      "y = 2\n",
      "clusters reciprocal; merging 7 and 2\n",
      "centroid = [13. 19.]\n",
      "\n",
      "\n",
      "x = 0\n",
      "knn of x = (array([2, 3, 8], dtype=int64), False)\n",
      "condition of size of all knns of x = (array([0, 1, 2], dtype=int32), False)\n",
      "original y = 2\n",
      "original y has been merged\n",
      "split i = 1\n",
      "knn[x] = [3 9 8]\n",
      "dists = [4.30116263 6.32455532 6.59966329]\n",
      "y = 3\n",
      "\n",
      "x = 3\n",
      "knn of x = (array([0, 0, 0]), True)\n",
      "condition of size of all knns of x = (array([1, 1, 1], dtype=int32), False)\n",
      "original y = 6\n",
      "knn[x] = [6 9 0]\n",
      "dists = [1.         3.77123617 4.30116263]\n",
      "y = 6\n",
      "\n",
      "x = 6\n",
      "knn of x = (array([0, 0, 0]), True)\n",
      "condition of size of all knns of x = (array([1, 1, 1], dtype=int32), False)\n",
      "original y = 3\n",
      "knn[x] = [3 9 0]\n",
      "dists = [1.         4.8074017  5.14781507]\n",
      "y = 3\n",
      "clusters reciprocal; merging 6 and 3\n",
      "centroid = [18. 15.]\n",
      "\n",
      "\n",
      "x = 0\n",
      "knn of x = (array([3, 9, 8], dtype=int64), False)\n",
      "condition of size of all knns of x = (array([0, 2, 2], dtype=int32), False)\n",
      "original y = 3\n",
      "original y has been merged\n",
      "split i = 1\n",
      "knn[x] = [10  9  8]\n",
      "dists = [6.28932075 6.32455532 6.59966329]\n",
      "y = 10\n",
      "\n",
      "x = 10\n",
      "knn of x = (array([0, 0, 0]), True)\n",
      "condition of size of all knns of x = (array([1, 1, 1], dtype=int32), False)\n",
      "original y = 0\n",
      "knn[x] = [0 9 4]\n",
      "dists = [ 6.28932075  6.40312424 11.45522685]\n",
      "y = 0\n",
      "clusters reciprocal; merging 10 and 0\n",
      "centroid = [15.33333333 13.33333333]\n",
      "\n",
      "\n",
      "x = 4\n",
      "knn of x = (array([0, 0, 0]), True)\n",
      "condition of size of all knns of x = (array([0, 0, 0], dtype=int32), True)\n",
      "original y = 8\n",
      "knn[x] = [ 8  9 11]\n",
      "dists = [ 6.47216261  9.09822938 10.76815328]\n",
      "y = 8\n",
      "\n",
      "x = 8\n",
      "knn of x = (array([0, 0, 0]), True)\n",
      "condition of size of all knns of x = (array([0, 0, 0], dtype=int32), True)\n",
      "original y = 4\n",
      "knn[x] = [ 4  9 11]\n",
      "dists = [ 6.47216261 18.86796226 19.30802942]\n",
      "y = 4\n",
      "clusters reciprocal; merging 8 and 4\n",
      "centroid = [2.33333333 6.16666667]\n",
      "\n",
      "\n",
      "x = 9\n",
      "knn of x = (array([0, 0, 0]), True)\n",
      "condition of size of all knns of x = (array([0, 0, 0], dtype=int32), True)\n",
      "original y = 11\n",
      "knn[x] = [11 12  9]\n",
      "dists = [ 7.35391052 20.02498439         inf]\n",
      "y = 11\n",
      "\n",
      "x = 11\n",
      "knn of x = (array([0, 0, 0]), True)\n",
      "condition of size of all knns of x = (array([0, 0, 0], dtype=int32), True)\n",
      "original y = 9\n",
      "knn[x] = [ 9 12 11]\n",
      "dists = [ 7.35391052 22.26684755         inf]\n",
      "y = 9\n",
      "clusters reciprocal; merging 11 and 9\n",
      "centroid = [14.4 15.6]\n",
      "\n",
      "\n",
      "x = 12\n",
      "knn of x = (array([0, 0, 0]), True)\n",
      "condition of size of all knns of x = (array([0, 0, 0], dtype=int32), True)\n",
      "original y = 13\n",
      "knn[x] = [13 10 12]\n",
      "dists = [28.71825693         inf         inf]\n",
      "y = 13\n",
      "\n",
      "x = 13\n",
      "knn of x = (array([0, 0, 0]), True)\n",
      "condition of size of all knns of x = (array([0, 0, 0], dtype=int32), True)\n",
      "original y = 12\n",
      "knn[x] = [12 10  8]\n",
      "dists = [28.71825693         inf         inf]\n",
      "y = 12\n",
      "clusters reciprocal; merging 13 and 12\n",
      "centroid = [ 9.875  12.0625]\n",
      "\n",
      "\n"
     ]
    }
   ],
   "source": [
    "B = test_nn_chain(X, 3)"
   ]
  },
  {
   "cell_type": "code",
   "execution_count": 6,
   "metadata": {},
   "outputs": [
    {
     "data": {
      "image/png": "[encoded data removed]",
      "text/plain": [
       "<Figure size 640x480 with 1 Axes>"
      ]
     },
     "metadata": {},
     "output_type": "display_data"
    }
   ],
   "source": [
    "dendrogram(A)\n",
    "plt.show()"
   ]
  },
  {
   "cell_type": "code",
   "execution_count": 7,
   "metadata": {},
   "outputs": [
    {
     "data": {
      "image/png": "[encoded data removed]",
      "text/plain": [
       "<Figure size 640x480 with 1 Axes>"
      ]
     },
     "metadata": {},
     "output_type": "display_data"
    }
   ],
   "source": [
    "dendrogram(B)\n",
    "plt.show()"
   ]
  },
  {
   "cell_type": "code",
   "execution_count": 8,
   "metadata": {},
   "outputs": [
    {
     "data": {
      "image/png": "[encoded data removed]",
      "text/plain": [
       "<Figure size 640x480 with 1 Axes>"
      ]
     },
     "metadata": {},
     "output_type": "display_data"
    }
   ],
   "source": [
    "y = pdist(X) \n",
    "Z = ward(y)\n",
    "\n",
    "dendrogram(Z)\n",
    "plt.show()"
   ]
  },
  {
   "cell_type": "code",
   "execution_count": 34,
   "metadata": {},
   "outputs": [],
   "source": [
    "x = np.array([0])"
   ]
  },
  {
   "cell_type": "code",
   "execution_count": 51,
   "metadata": {},
   "outputs": [
    {
     "data": {
      "text/plain": [
       "[False, True, True]"
      ]
     },
     "execution_count": 51,
     "metadata": {},
     "output_type": "execute_result"
    }
   ],
   "source": [
    "# size = [True, False, False, False, False, False, False, False]\n",
    "size = [0, 1, 2]\n",
    "list(map(bool,size))"
   ]
  },
  {
   "cell_type": "code",
   "execution_count": 47,
   "metadata": {},
   "outputs": [
    {
     "data": {
      "text/plain": [
       "array([[10., 10.]])"
      ]
     },
     "execution_count": 47,
     "metadata": {},
     "output_type": "execute_result"
    }
   ],
   "source": [
    "X[size]"
   ]
  },
  {
   "cell_type": "code",
   "execution_count": 22,
   "metadata": {},
   "outputs": [],
   "source": [
    "# User Input\n",
    "X = np.array([[10, 10], [6,3], [13,17.5], [17,15], [1, 12.5], [0,3], [19,15], [13,20.5]])\n",
    "\n",
    "# Init\n",
    "active = {i for i, _ in enumerate(X)}\n",
    "size = np.ones(n, dtype=np.intc)\n",
    "\n",
    "# Activate loop\n",
    "while active:\n",
    "\n",
    "    if len(active) == 1:\n",
    "        break\n",
    "\n",
    "    i = active.pop()\n",
    "    cluster_chain = np.array([i])\n",
    "    chain_length = 1\n",
    "    # knn[chain_length - 1] = \n",
    "    # Do i still need this variable ?\n",
    "    \n",
    "\n",
    "    while cluster_chain:\n",
    "        i = cluster_chain[chain_length - 1]\n",
    "        \n",
    "\n"
   ]
  },
  {
   "cell_type": "code",
   "execution_count": 24,
   "metadata": {},
   "outputs": [],
   "source": [
    "i = active.pop()"
   ]
  },
  {
   "cell_type": "code",
   "execution_count": 37,
   "metadata": {},
   "outputs": [],
   "source": [
    "A = {1, 2, 3}"
   ]
  },
  {
   "cell_type": "code",
   "execution_count": 38,
   "metadata": {},
   "outputs": [
    {
     "name": "stdout",
     "output_type": "stream",
     "text": [
      "hi\n",
      "hi\n"
     ]
    }
   ],
   "source": [
    "while A:\n",
    "    if len(A) == 1:\n",
    "        break\n",
    "    print(\"hi\")\n",
    "    A.pop()\n"
   ]
  },
  {
   "cell_type": "code",
   "execution_count": 39,
   "metadata": {},
   "outputs": [
    {
     "data": {
      "text/plain": [
       "{3}"
      ]
     },
     "execution_count": 39,
     "metadata": {},
     "output_type": "execute_result"
    }
   ],
   "source": [
    "A"
   ]
  },
  {
   "cell_type": "code",
   "execution_count": null,
   "metadata": {},
   "outputs": [],
   "source": []
  }
 ],
 "metadata": {
  "kernelspec": {
   "display_name": "Python 3",
   "language": "python",
   "name": "python3"
  },
  "language_info": {
   "codemirror_mode": {
    "name": "ipython",
    "version": 3
   },
   "file_extension": ".py",
   "mimetype": "text/x-python",
   "name": "python",
   "nbconvert_exporter": "python",
   "pygments_lexer": "ipython3",
   "version": "3.10.13"
  }
 },
 "nbformat": 4,
 "nbformat_minor": 2
}
