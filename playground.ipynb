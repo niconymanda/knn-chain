{
 "cells": [
  {
   "cell_type": "code",
   "execution_count": 1,
   "metadata": {},
   "outputs": [],
   "source": [
    "from scipy.cluster.hierarchy import ward, dendrogram, linkage\n",
    "from scipy.spatial.distance import pdist\n",
    "\n",
    "from knn_chain import knn_chain\n",
    "from py_knn_chain import py_knn_chain\n",
    "from nn_chain_algorithm_standard import standard_nn_chain\n",
    "\n",
    "import numpy as np\n",
    "import matplotlib.pyplot as plt\n",
    "import time"
   ]
  },
  {
   "cell_type": "code",
   "execution_count": 2,
   "metadata": {},
   "outputs": [],
   "source": [
    "def generate_multivariate_gaussian_data(num_samples, num_features, num_distributions):\n",
    "    \"\"\"\n",
    "    Generate a massive multidimensional, multivariate Gaussian dataset.\n",
    "\n",
    "    Parameters:\n",
    "    - num_samples: Total number of samples to generate.\n",
    "    - num_features: Number of features (dimensions) for each sample.\n",
    "    - num_distributions: Number of different Gaussian distributions.\n",
    "\n",
    "    Returns:\n",
    "    - data: Generated dataset of shape (num_samples, num_features).\n",
    "    \"\"\"\n",
    "    data = []\n",
    "    samples_per_distribution = num_samples // num_distributions\n",
    "\n",
    "    for i in range(num_distributions):\n",
    "        mean = np.random.rand(num_features) * 100\n",
    "        cov = np.random.rand(num_features, num_features)\n",
    "        cov = np.dot(cov, cov.transpose())\n",
    "\n",
    "        distribution_data = np.random.multivariate_normal(mean, cov, samples_per_distribution)\n",
    "        data.append(distribution_data)\n",
    "\n",
    "    data = np.vstack(data)\n",
    "    return data"
   ]
  },
  {
   "cell_type": "code",
   "execution_count": 3,
   "metadata": {},
   "outputs": [
    {
     "name": "stdout",
     "output_type": "stream",
     "text": [
      "Generated dataset shape: (1000, 10)\n"
     ]
    }
   ],
   "source": [
    "num_samples = 1000\n",
    "num_features = 10\n",
    "num_distributions = 5\n",
    "\n",
    "X = list(generate_multivariate_gaussian_data(num_samples, num_features, num_distributions))\n",
    "\n",
    "print(f\"Generated dataset shape: {X.shape}\")"
   ]
  },
  {
   "cell_type": "code",
   "execution_count": 4,
   "metadata": {},
   "outputs": [],
   "source": [
    "# plt.scatter(X[:, 0], X[:, 1])\n",
    "# for i, c in enumerate(X):\n",
    "\n",
    "#     label = i, list(c)\n",
    "\n",
    "#     plt.annotate(label,\n",
    "#                  (c),\n",
    "#                  textcoords=\"offset points\",\n",
    "#                  xytext=(0,10),\n",
    "#                  ha='center')\n",
    "\n",
    "# plt.grid()\n",
    "# plt.show()"
   ]
  },
  {
   "cell_type": "code",
   "execution_count": 5,
   "metadata": {},
   "outputs": [],
   "source": [
    "# Cython K-NN algorithm\n",
    "# get the start time\n",
    "st = time.process_time()\n",
    "########## FIX \n",
    "A = knn_chain(list(X), 3)\n",
    "##########\n",
    "# get the end time\n",
    "et = time.process_time()\n",
    "# get execution time\n",
    "cy_time_knn = et - st"
   ]
  },
  {
   "cell_type": "code",
   "execution_count": 6,
   "metadata": {},
   "outputs": [
    {
     "name": "stdout",
     "output_type": "stream",
     "text": [
      "<class 'numpy.ndarray'>\n"
     ]
    }
   ],
   "source": [
    "# Python K-NN algorithm\n",
    "# get the start time\n",
    "st = time.process_time()\n",
    "########## FIX \n",
    "B = py_knn_chain(X, 3)\n",
    "##########\n",
    "# get the end time\n",
    "et = time.process_time()\n",
    "# get execution time\n",
    "py_time_knn = et - st"
   ]
  },
  {
   "cell_type": "code",
   "execution_count": 7,
   "metadata": {},
   "outputs": [],
   "source": [
    "# Cython standard NN algorithm\n",
    "# get the start time\n",
    "st = time.process_time()\n",
    "########## FIX \n",
    "y = pdist(X) \n",
    "Z = ward(y)\n",
    "##########\n",
    "# get the end time\n",
    "et = time.process_time()\n",
    "# get execution time\n",
    "cy_time_nn = et - st"
   ]
  },
  {
   "cell_type": "code",
   "execution_count": 8,
   "metadata": {},
   "outputs": [],
   "source": [
    "# Python standard NN algorithm\n",
    "# get the start time\n",
    "st = time.process_time()\n",
    "########## \n",
    "y = pdist(X)\n",
    "C = standard_nn_chain(y, len(X))\n",
    "##########\n",
    "# get the end time\n",
    "et = time.process_time()\n",
    "# get execution time\n",
    "py_time_nn = et - st"
   ]
  },
  {
   "cell_type": "markdown",
   "metadata": {},
   "source": [
    "## Execution Time comparison:"
   ]
  },
  {
   "cell_type": "code",
   "execution_count": 9,
   "metadata": {},
   "outputs": [
    {
     "name": "stdout",
     "output_type": "stream",
     "text": [
      "CPU Execution time for the: \n",
      "      1. cython knn function = 5.423497212 s,\n",
      "      2. python knn function = 5.876842580000001 s,\n",
      "      3. cython standard function = 0.01597536000000055 s,\n",
      "      4. python standard function = 37.00958249 s.\n"
     ]
    }
   ],
   "source": [
    "print(f\"\"\"CPU Execution time for the: \n",
    "      1. cython knn function = {cy_time_knn} s,\n",
    "      2. python knn function = {py_time_knn} s,\n",
    "      3. cython standard function = {cy_time_nn} s,\n",
    "      4. python standard function = {py_time_nn} s.\"\"\")"
   ]
  }
 ],
 "metadata": {
  "kernelspec": {
   "display_name": "Python 3",
   "language": "python",
   "name": "python3"
  },
  "language_info": {
   "codemirror_mode": {
    "name": "ipython",
    "version": 3
   },
   "file_extension": ".py",
   "mimetype": "text/x-python",
   "name": "python",
   "nbconvert_exporter": "python",
   "pygments_lexer": "ipython3",
   "version": "3.10.12"
  }
 },
 "nbformat": 4,
 "nbformat_minor": 2
}
