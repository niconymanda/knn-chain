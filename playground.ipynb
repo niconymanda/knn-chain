{
 "cells": [
  {
   "cell_type": "code",
   "execution_count": 2,
   "metadata": {},
   "outputs": [],
   "source": [
    "from knn_chain import knn_chain"
   ]
  },
  {
   "cell_type": "code",
   "execution_count": 6,
   "metadata": {},
   "outputs": [],
   "source": [
    "from scipy.cluster.hierarchy import ward\n",
    "from scipy.spatial.distance import pdist"
   ]
  },
  {
   "cell_type": "code",
   "execution_count": 3,
   "metadata": {},
   "outputs": [
    {
     "data": {
      "text/plain": [
       "(None, <pyximport._pyximport3.PyxImportMetaFinder at 0x7f64b07fd060>)"
      ]
     },
     "execution_count": 3,
     "metadata": {},
     "output_type": "execute_result"
    }
   ],
   "source": [
    "import numpy as np\n",
    "import pstats, cProfile\n",
    "import pyximport\n",
    "pyximport.install()"
   ]
  },
  {
   "cell_type": "code",
   "execution_count": 4,
   "metadata": {},
   "outputs": [],
   "source": [
    "X = np.loadtxt(\"largeX\")"
   ]
  },
  {
   "cell_type": "markdown",
   "metadata": {},
   "source": [
    "## Profiling:\n",
    "- knn-chain from c++, k = 6 vs k = 1  "
   ]
  },
  {
   "cell_type": "code",
   "execution_count": 4,
   "metadata": {},
   "outputs": [
    {
     "name": "stdout",
     "output_type": "stream",
     "text": [
      "Fri Jul 12 14:56:15 2024    Profile.prof\n",
      "\n",
      "         284 function calls in 6.136 seconds\n",
      "\n",
      "   Ordered by: internal time\n",
      "\n",
      "   ncalls  tottime  percall  cumtime  percall filename:lineno(function)\n",
      "        1    6.133    6.133    6.135    6.135 {built-in method knn_chain.knn_chain}\n",
      "       28    0.002    0.000    0.002    0.000 ipkernel.py:770(_clean_thread_parent_frames)\n",
      "        1    0.000    0.000    6.136    6.136 <string>:1(<module>)\n",
      "       14    0.000    0.000    0.000    0.000 threading.py:1478(enumerate)\n",
      "       98    0.000    0.000    0.000    0.000 threading.py:1145(ident)\n",
      "       14    0.000    0.000    0.000    0.000 ipkernel.py:785(<setcomp>)\n",
      "        1    0.000    0.000    6.136    6.136 {built-in method builtins.exec}\n",
      "       56    0.000    0.000    0.000    0.000 {method 'keys' of 'dict' objects}\n",
      "       28    0.000    0.000    0.000    0.000 {method 'values' of 'dict' objects}\n",
      "       14    0.000    0.000    0.000    0.000 {method '__exit__' of '_thread.RLock' objects}\n",
      "       28    0.000    0.000    0.000    0.000 {built-in method builtins.isinstance}\n",
      "        1    0.000    0.000    0.000    0.000 {method 'disable' of '_lsprof.Profiler' objects}\n",
      "\n",
      "\n"
     ]
    },
    {
     "data": {
      "text/plain": [
       "<pstats.Stats at 0x7fba2042ad40>"
      ]
     },
     "execution_count": 4,
     "metadata": {},
     "output_type": "execute_result"
    }
   ],
   "source": [
    "cProfile.runctx(\"knn_chain(X, 6)\", globals(), locals(), \"Profile.prof\")\n",
    "s = pstats.Stats(\"Profile.prof\")\n",
    "s.strip_dirs().sort_stats(\"time\").print_stats()"
   ]
  },
  {
   "cell_type": "code",
   "execution_count": 5,
   "metadata": {},
   "outputs": [
    {
     "name": "stdout",
     "output_type": "stream",
     "text": [
      "Fri Jul 12 14:56:50 2024    Profile.prof\n",
      "\n",
      "         284 function calls in 10.109 seconds\n",
      "\n",
      "   Ordered by: internal time\n",
      "\n",
      "   ncalls  tottime  percall  cumtime  percall filename:lineno(function)\n",
      "        1   10.108   10.108   10.109   10.109 {built-in method knn_chain.knn_chain}\n",
      "       28    0.001    0.000    0.001    0.000 ipkernel.py:770(_clean_thread_parent_frames)\n",
      "        1    0.000    0.000   10.109   10.109 <string>:1(<module>)\n",
      "       14    0.000    0.000    0.000    0.000 threading.py:1478(enumerate)\n",
      "        1    0.000    0.000   10.109   10.109 {built-in method builtins.exec}\n",
      "       14    0.000    0.000    0.000    0.000 ipkernel.py:785(<setcomp>)\n",
      "       98    0.000    0.000    0.000    0.000 threading.py:1145(ident)\n",
      "       28    0.000    0.000    0.000    0.000 {method 'values' of 'dict' objects}\n",
      "       56    0.000    0.000    0.000    0.000 {method 'keys' of 'dict' objects}\n",
      "        1    0.000    0.000    0.000    0.000 {method 'disable' of '_lsprof.Profiler' objects}\n",
      "       14    0.000    0.000    0.000    0.000 {method '__exit__' of '_thread.RLock' objects}\n",
      "       28    0.000    0.000    0.000    0.000 {built-in method builtins.isinstance}\n",
      "\n",
      "\n"
     ]
    },
    {
     "data": {
      "text/plain": [
       "<pstats.Stats at 0x7fba2042b0a0>"
      ]
     },
     "execution_count": 5,
     "metadata": {},
     "output_type": "execute_result"
    }
   ],
   "source": [
    "cProfile.runctx(\"knn_chain(X, 1)\", globals(), locals(), \"Profile.prof\")\n",
    "s = pstats.Stats(\"Profile.prof\")\n",
    "s.strip_dirs().sort_stats(\"time\").print_stats()"
   ]
  },
  {
   "cell_type": "markdown",
   "metadata": {},
   "source": [
    "- SciPy implementation"
   ]
  },
  {
   "cell_type": "code",
   "execution_count": 7,
   "metadata": {},
   "outputs": [
    {
     "name": "stdout",
     "output_type": "stream",
     "text": [
      "Fri Jul 12 14:57:13 2024    Profile.prof\n",
      "\n",
      "         14 function calls in 3.661 seconds\n",
      "\n",
      "   Ordered by: internal time\n",
      "\n",
      "   ncalls  tottime  percall  cumtime  percall filename:lineno(function)\n",
      "        1    3.660    3.660    3.660    3.660 {built-in method scipy.spatial._distance_pybind.pdist_euclidean}\n",
      "        1    0.001    0.001    3.661    3.661 <string>:1(<module>)\n",
      "        1    0.000    0.000    3.660    3.660 distance.py:1961(pdist)\n",
      "        1    0.000    0.000    3.661    3.661 {built-in method builtins.exec}\n",
      "        1    0.000    0.000    0.000    0.000 _util.py:241(_asarray_validated)\n",
      "        1    0.000    0.000    0.000    0.000 {method 'disable' of '_lsprof.Profiler' objects}\n",
      "        1    0.000    0.000    0.000    0.000 _base.py:1291(isspmatrix)\n",
      "        2    0.000    0.000    0.000    0.000 {built-in method builtins.isinstance}\n",
      "        1    0.000    0.000    0.000    0.000 {method 'get' of 'dict' objects}\n",
      "        1    0.000    0.000    0.000    0.000 {built-in method numpy.asarray}\n",
      "        1    0.000    0.000    0.000    0.000 {method 'lower' of 'str' objects}\n",
      "        1    0.000    0.000    0.000    0.000 {built-in method builtins.len}\n",
      "        1    0.000    0.000    0.000    0.000 {built-in method builtins.callable}\n",
      "\n",
      "\n"
     ]
    }
   ],
   "source": [
    "cProfile.runctx(\"pdist(X)\", globals(), locals(), \"Profile.prof\")\n",
    "s = pstats.Stats(\"Profile.prof\")\n",
    "s.strip_dirs().sort_stats(\"time\").print_stats()\n",
    "y = pdist(X) "
   ]
  },
  {
   "cell_type": "code",
   "execution_count": 8,
   "metadata": {},
   "outputs": [
    {
     "name": "stdout",
     "output_type": "stream",
     "text": [
      "Fri Jul 12 14:57:21 2024    Profile.prof\n",
      "\n",
      "         52 function calls in 3.862 seconds\n",
      "\n",
      "   Ordered by: internal time\n",
      "\n",
      "   ncalls  tottime  percall  cumtime  percall filename:lineno(function)\n",
      "        1    3.770    3.770    3.778    3.778 {scipy.cluster._hierarchy.nn_chain}\n",
      "        1    0.048    0.048    3.862    3.862 {built-in method builtins.exec}\n",
      "        1    0.032    0.032    3.814    3.814 hierarchy.py:837(linkage)\n",
      "        1    0.008    0.008    0.008    0.008 {method 'argsort' of 'numpy.ndarray' objects}\n",
      "        1    0.003    0.003    0.003    0.003 {method 'reduce' of 'numpy.ufunc' objects}\n",
      "        1    0.000    0.000    3.814    3.814 <string>:1(<module>)\n",
      "        1    0.000    0.000    0.000    0.000 fromnumeric.py:1034(_argsort_dispatcher)\n",
      "        2    0.000    0.000    0.000    0.000 distance.py:2475(is_valid_y)\n",
      "        4    0.000    0.000    0.012    0.003 {built-in method numpy.core._multiarray_umath.implement_array_function}\n",
      "        1    0.000    0.000    0.003    0.003 fromnumeric.py:69(_wrapreduction)\n",
      "        2    0.000    0.000    0.000    0.000 numeric.py:150(ones)\n",
      "        1    0.000    0.000    0.003    0.003 <__array_function__ internals>:177(all)\n",
      "        2    0.000    0.000    0.000    0.000 {built-in method numpy.empty}\n",
      "        2    0.000    0.000    0.000    0.000 <__array_function__ internals>:177(copyto)\n",
      "        1    0.000    0.000    0.000    0.000 hierarchy.py:1570(_convert_to_double)\n",
      "        4    0.000    0.000    0.000    0.000 {built-in method numpy.asarray}\n",
      "        1    0.000    0.000    3.814    3.814 hierarchy.py:738(ward)\n",
      "        1    0.000    0.000    0.003    0.003 fromnumeric.py:2432(all)\n",
      "        1    0.000    0.000    0.000    0.000 distance.py:2553(num_obs_y)\n",
      "        1    0.000    0.000    0.008    0.008 <__array_function__ internals>:177(argsort)\n",
      "        1    0.000    0.000    0.008    0.008 fromnumeric.py:51(_wrapfunc)\n",
      "        2    0.000    0.000    0.000    0.000 numerictypes.py:228(obj2sctype)\n",
      "        1    0.000    0.000    0.000    0.000 hierarchy.py:162(_copy_array_if_base_present)\n",
      "        1    0.000    0.000    0.000    0.000 numerictypes.py:324(issubsctype)\n",
      "        1    0.000    0.000    0.008    0.008 fromnumeric.py:1038(argsort)\n",
      "        1    0.000    0.000    0.000    0.000 fromnumeric.py:70(<dictcomp>)\n",
      "        1    0.000    0.000    0.000    0.000 {built-in method builtins.getattr}\n",
      "        1    0.000    0.000    0.000    0.000 hierarchy.py:174(_copy_arrays_if_base_present)\n",
      "        1    0.000    0.000    0.000    0.000 hierarchy.py:181(<listcomp>)\n",
      "        1    0.000    0.000    0.000    0.000 fromnumeric.py:2427(_all_dispatcher)\n",
      "        1    0.000    0.000    0.000    0.000 {method 'disable' of '_lsprof.Profiler' objects}\n",
      "        2    0.000    0.000    0.000    0.000 multiarray.py:1079(copyto)\n",
      "        2    0.000    0.000    0.000    0.000 {built-in method builtins.len}\n",
      "        1    0.000    0.000    0.000    0.000 {method 'items' of 'dict' objects}\n",
      "        3    0.000    0.000    0.000    0.000 {built-in method builtins.isinstance}\n",
      "        2    0.000    0.000    0.000    0.000 {built-in method builtins.issubclass}\n",
      "\n",
      "\n"
     ]
    },
    {
     "data": {
      "text/plain": [
       "<pstats.Stats at 0x7fba200d7460>"
      ]
     },
     "execution_count": 8,
     "metadata": {},
     "output_type": "execute_result"
    }
   ],
   "source": [
    "cProfile.runctx(\"ward(y)\", globals(), locals(), \"Profile.prof\")\n",
    "s = pstats.Stats(\"Profile.prof\")\n",
    "s.strip_dirs().sort_stats(\"time\").print_stats()"
   ]
  },
  {
   "cell_type": "markdown",
   "metadata": {},
   "source": [
    "- prev results"
   ]
  },
  {
   "cell_type": "code",
   "execution_count": null,
   "metadata": {},
   "outputs": [],
   "source": [
    "# PREV RESULTS FOR IMPORTED LIB\n",
    "# k = 1 ==> 30 s\n",
    "# k = 6 ==> 18 s\n",
    "\n",
    "# avg = 0.0\n",
    "\n",
    "# for i in range(10):\n",
    "#     cProfile.runctx(\"knn_chain(X, 1)\", globals(), locals(), \"Profile.prof\")\n",
    "#     s = pstats.Stats(\"Profile.prof\")\n",
    "#     avg += s.strip_dirs().sort_stats(\"time\").total_tt\n",
    "    \n",
    "# print(f\"avg = {avg/10}\")\n",
    "# s.strip_dirs().sort_stats(\"time\").print_stats()"
   ]
  }
 ],
 "metadata": {
  "kernelspec": {
   "display_name": "Python 3",
   "language": "python",
   "name": "python3"
  },
  "language_info": {
   "codemirror_mode": {
    "name": "ipython",
    "version": 3
   },
   "file_extension": ".py",
   "mimetype": "text/x-python",
   "name": "python",
   "nbconvert_exporter": "python",
   "pygments_lexer": "ipython3",
   "version": "3.10.13"
  }
 },
 "nbformat": 4,
 "nbformat_minor": 2
}
