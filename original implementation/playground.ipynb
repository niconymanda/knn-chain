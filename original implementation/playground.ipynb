{
 "cells": [
  {
   "cell_type": "code",
   "execution_count": 2,
   "metadata": {},
   "outputs": [],
   "source": [
    "from knn_chain import knn_chain"
   ]
  },
  {
   "cell_type": "code",
   "execution_count": 3,
   "metadata": {},
   "outputs": [],
   "source": [
    "from scipy.cluster.hierarchy import ward\n",
    "from scipy.spatial.distance import pdist"
   ]
  },
  {
   "cell_type": "code",
   "execution_count": 4,
   "metadata": {},
   "outputs": [
    {
     "data": {
      "text/plain": [
       "(None, <pyximport._pyximport3.PyxImportMetaFinder at 0x7f25af86a080>)"
      ]
     },
     "execution_count": 4,
     "metadata": {},
     "output_type": "execute_result"
    }
   ],
   "source": [
    "import numpy as np\n",
    "import pstats, cProfile\n",
    "import pyximport\n",
    "pyximport.install()"
   ]
  },
  {
   "cell_type": "code",
   "execution_count": 5,
   "metadata": {},
   "outputs": [],
   "source": [
    "X = np.loadtxt(\"largeX\")"
   ]
  },
  {
   "cell_type": "markdown",
   "metadata": {},
   "source": [
    "## Profiling:\n",
    "- knn-chain from c++, k = 6 vs k = 1  \n",
    "- SciPy implementation"
   ]
  },
  {
   "cell_type": "code",
   "execution_count": 6,
   "metadata": {},
   "outputs": [
    {
     "name": "stdout",
     "output_type": "stream",
     "text": [
      "Thu Jul  4 13:33:39 2024    Profile.prof\n",
      "\n",
      "         284 function calls in 18.471 seconds\n",
      "\n",
      "   Ordered by: internal time\n",
      "\n",
      "   ncalls  tottime  percall  cumtime  percall filename:lineno(function)\n",
      "        1   18.468   18.468   18.471   18.471 {built-in method knn_chain.knn_chain}\n",
      "       28    0.002    0.000    0.002    0.000 ipkernel.py:770(_clean_thread_parent_frames)\n",
      "        1    0.000    0.000   18.471   18.471 <string>:1(<module>)\n",
      "       14    0.000    0.000    0.000    0.000 threading.py:1478(enumerate)\n",
      "       14    0.000    0.000    0.000    0.000 ipkernel.py:785(<setcomp>)\n",
      "       98    0.000    0.000    0.000    0.000 threading.py:1145(ident)\n",
      "        1    0.000    0.000   18.471   18.471 {built-in method builtins.exec}\n",
      "       28    0.000    0.000    0.000    0.000 {method 'values' of 'dict' objects}\n",
      "        1    0.000    0.000    0.000    0.000 {method 'disable' of '_lsprof.Profiler' objects}\n",
      "       14    0.000    0.000    0.000    0.000 {method '__exit__' of '_thread.RLock' objects}\n",
      "       56    0.000    0.000    0.000    0.000 {method 'keys' of 'dict' objects}\n",
      "       28    0.000    0.000    0.000    0.000 {built-in method builtins.isinstance}\n",
      "\n",
      "\n"
     ]
    },
    {
     "data": {
      "text/plain": [
       "<pstats.Stats at 0x7f25af86a2f0>"
      ]
     },
     "execution_count": 6,
     "metadata": {},
     "output_type": "execute_result"
    }
   ],
   "source": [
    "# KNN-CHAIN AlGORITHM\n",
    "# k = 6\n",
    "cProfile.runctx(\"knn_chain(X, 6)\", globals(), locals(), \"Profile.prof\")\n",
    "s = pstats.Stats(\"Profile.prof\")\n",
    "s.strip_dirs().sort_stats(\"time\").print_stats()"
   ]
  },
  {
   "cell_type": "code",
   "execution_count": 7,
   "metadata": {},
   "outputs": [
    {
     "name": "stdout",
     "output_type": "stream",
     "text": [
      "Thu Jul  4 13:43:03 2024    Profile.prof\n",
      "\n",
      "         284 function calls in 30.147 seconds\n",
      "\n",
      "   Ordered by: internal time\n",
      "\n",
      "   ncalls  tottime  percall  cumtime  percall filename:lineno(function)\n",
      "        1   30.145   30.145   30.146   30.146 {built-in method knn_chain.knn_chain}\n",
      "       28    0.002    0.000    0.002    0.000 ipkernel.py:770(_clean_thread_parent_frames)\n",
      "        1    0.000    0.000   30.147   30.147 <string>:1(<module>)\n",
      "       14    0.000    0.000    0.000    0.000 threading.py:1478(enumerate)\n",
      "       14    0.000    0.000    0.000    0.000 ipkernel.py:785(<setcomp>)\n",
      "       98    0.000    0.000    0.000    0.000 threading.py:1145(ident)\n",
      "        1    0.000    0.000   30.147   30.147 {built-in method builtins.exec}\n",
      "       56    0.000    0.000    0.000    0.000 {method 'keys' of 'dict' objects}\n",
      "       28    0.000    0.000    0.000    0.000 {method 'values' of 'dict' objects}\n",
      "       14    0.000    0.000    0.000    0.000 {method '__exit__' of '_thread.RLock' objects}\n",
      "       28    0.000    0.000    0.000    0.000 {built-in method builtins.isinstance}\n",
      "        1    0.000    0.000    0.000    0.000 {method 'disable' of '_lsprof.Profiler' objects}\n",
      "\n",
      "\n"
     ]
    },
    {
     "data": {
      "text/plain": [
       "<pstats.Stats at 0x7f25af86a170>"
      ]
     },
     "execution_count": 7,
     "metadata": {},
     "output_type": "execute_result"
    }
   ],
   "source": [
    "# k = 1\n",
    "cProfile.runctx(\"knn_chain(X, 1)\", globals(), locals(), \"Profile.prof\")\n",
    "s = pstats.Stats(\"Profile.prof\")\n",
    "s.strip_dirs().sort_stats(\"time\").print_stats()"
   ]
  },
  {
   "cell_type": "code",
   "execution_count": 6,
   "metadata": {},
   "outputs": [
    {
     "name": "stdout",
     "output_type": "stream",
     "text": [
      "Thu Jul  4 13:28:52 2024    Profile.prof\n",
      "\n",
      "         14 function calls in 3.903 seconds\n",
      "\n",
      "   Ordered by: internal time\n",
      "\n",
      "   ncalls  tottime  percall  cumtime  percall filename:lineno(function)\n",
      "        1    3.902    3.902    3.902    3.902 {built-in method scipy.spatial._distance_pybind.pdist_euclidean}\n",
      "        1    0.001    0.001    3.903    3.903 <string>:1(<module>)\n",
      "        1    0.000    0.000    3.902    3.902 distance.py:1961(pdist)\n",
      "        1    0.000    0.000    3.903    3.903 {built-in method builtins.exec}\n",
      "        1    0.000    0.000    0.000    0.000 _util.py:241(_asarray_validated)\n",
      "        1    0.000    0.000    0.000    0.000 {method 'disable' of '_lsprof.Profiler' objects}\n",
      "        2    0.000    0.000    0.000    0.000 {built-in method builtins.isinstance}\n",
      "        1    0.000    0.000    0.000    0.000 _base.py:1291(isspmatrix)\n",
      "        1    0.000    0.000    0.000    0.000 {built-in method numpy.asarray}\n",
      "        1    0.000    0.000    0.000    0.000 {method 'get' of 'dict' objects}\n",
      "        1    0.000    0.000    0.000    0.000 {method 'lower' of 'str' objects}\n",
      "        1    0.000    0.000    0.000    0.000 {built-in method builtins.len}\n",
      "        1    0.000    0.000    0.000    0.000 {built-in method builtins.callable}\n",
      "\n",
      "\n"
     ]
    }
   ],
   "source": [
    "# SCIPY IMPLEMENTATION\n",
    "cProfile.runctx(\"pdist(X)\", globals(), locals(), \"Profile.prof\")\n",
    "s = pstats.Stats(\"Profile.prof\")\n",
    "s.strip_dirs().sort_stats(\"time\").print_stats()\n",
    "y = pdist(X) "
   ]
  },
  {
   "cell_type": "code",
   "execution_count": 7,
   "metadata": {},
   "outputs": [
    {
     "name": "stdout",
     "output_type": "stream",
     "text": [
      "Thu Jul  4 13:29:00 2024    Profile.prof\n",
      "\n",
      "         52 function calls in 3.906 seconds\n",
      "\n",
      "   Ordered by: internal time\n",
      "\n",
      "   ncalls  tottime  percall  cumtime  percall filename:lineno(function)\n",
      "        1    3.818    3.818    3.819    3.819 {scipy.cluster._hierarchy.nn_chain}\n",
      "        1    0.084    0.084    3.906    3.906 hierarchy.py:837(linkage)\n",
      "        1    0.003    0.003    0.003    0.003 {method 'reduce' of 'numpy.ufunc' objects}\n",
      "        1    0.001    0.001    0.001    0.001 {method 'argsort' of 'numpy.ndarray' objects}\n",
      "        1    0.000    0.000    0.000    0.000 fromnumeric.py:1034(_argsort_dispatcher)\n",
      "        2    0.000    0.000    0.000    0.000 distance.py:2475(is_valid_y)\n",
      "        4    0.000    0.000    0.004    0.001 {built-in method numpy.core._multiarray_umath.implement_array_function}\n",
      "        2    0.000    0.000    0.000    0.000 numeric.py:150(ones)\n",
      "        4    0.000    0.000    0.000    0.000 {built-in method numpy.asarray}\n",
      "        1    0.000    0.000    0.003    0.003 fromnumeric.py:2432(all)\n",
      "        1    0.000    0.000    0.001    0.001 <__array_function__ internals>:177(argsort)\n",
      "        1    0.000    0.000    0.003    0.003 <__array_function__ internals>:177(all)\n",
      "        2    0.000    0.000    0.000    0.000 {built-in method numpy.empty}\n",
      "        1    0.000    0.000    0.003    0.003 fromnumeric.py:69(_wrapreduction)\n",
      "        1    0.000    0.000    3.906    3.906 {built-in method builtins.exec}\n",
      "        1    0.000    0.000    0.000    0.000 hierarchy.py:1570(_convert_to_double)\n",
      "        1    0.000    0.000    0.001    0.001 fromnumeric.py:51(_wrapfunc)\n",
      "        1    0.000    0.000    0.000    0.000 distance.py:2553(num_obs_y)\n",
      "        2    0.000    0.000    0.000    0.000 <__array_function__ internals>:177(copyto)\n",
      "        2    0.000    0.000    0.000    0.000 numerictypes.py:228(obj2sctype)\n",
      "        1    0.000    0.000    3.906    3.906 hierarchy.py:738(ward)\n",
      "        1    0.000    0.000    0.001    0.001 fromnumeric.py:1038(argsort)\n",
      "        1    0.000    0.000    0.000    0.000 hierarchy.py:162(_copy_array_if_base_present)\n",
      "        1    0.000    0.000    3.906    3.906 <string>:1(<module>)\n",
      "        1    0.000    0.000    0.000    0.000 fromnumeric.py:2427(_all_dispatcher)\n",
      "        1    0.000    0.000    0.000    0.000 numerictypes.py:324(issubsctype)\n",
      "        1    0.000    0.000    0.000    0.000 {method 'disable' of '_lsprof.Profiler' objects}\n",
      "        1    0.000    0.000    0.000    0.000 {built-in method builtins.getattr}\n",
      "        1    0.000    0.000    0.000    0.000 fromnumeric.py:70(<dictcomp>)\n",
      "        2    0.000    0.000    0.000    0.000 multiarray.py:1079(copyto)\n",
      "        1    0.000    0.000    0.000    0.000 hierarchy.py:174(_copy_arrays_if_base_present)\n",
      "        2    0.000    0.000    0.000    0.000 {built-in method builtins.len}\n",
      "        1    0.000    0.000    0.000    0.000 {method 'items' of 'dict' objects}\n",
      "        1    0.000    0.000    0.000    0.000 hierarchy.py:181(<listcomp>)\n",
      "        3    0.000    0.000    0.000    0.000 {built-in method builtins.isinstance}\n",
      "        2    0.000    0.000    0.000    0.000 {built-in method builtins.issubclass}\n",
      "\n",
      "\n"
     ]
    },
    {
     "data": {
      "text/plain": [
       "<pstats.Stats at 0x7fcb6b5c0ee0>"
      ]
     },
     "execution_count": 7,
     "metadata": {},
     "output_type": "execute_result"
    }
   ],
   "source": [
    "cProfile.runctx(\"ward(y)\", globals(), locals(), \"Profile.prof\")\n",
    "s = pstats.Stats(\"Profile.prof\")\n",
    "s.strip_dirs().sort_stats(\"time\").print_stats()"
   ]
  },
  {
   "cell_type": "code",
   "execution_count": null,
   "metadata": {},
   "outputs": [],
   "source": []
  }
 ],
 "metadata": {
  "kernelspec": {
   "display_name": "Python 3",
   "language": "python",
   "name": "python3"
  },
  "language_info": {
   "codemirror_mode": {
    "name": "ipython",
    "version": 3
   },
   "file_extension": ".py",
   "mimetype": "text/x-python",
   "name": "python",
   "nbconvert_exporter": "python",
   "pygments_lexer": "ipython3",
   "version": "3.10.12"
  }
 },
 "nbformat": 4,
 "nbformat_minor": 2
}
