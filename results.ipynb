{
 "cells": [
  {
   "cell_type": "code",
   "execution_count": 1,
   "metadata": {},
   "outputs": [],
   "source": [
    "from knn_chain import knn_chain"
   ]
  },
  {
   "cell_type": "code",
   "execution_count": 3,
   "metadata": {},
   "outputs": [],
   "source": [
    "from scipy.cluster.hierarchy import ward\n",
    "from scipy.spatial.distance import pdist"
   ]
  },
  {
   "cell_type": "code",
   "execution_count": 2,
   "metadata": {},
   "outputs": [
    {
     "data": {
      "text/plain": [
       "(None, <pyximport._pyximport3.PyxImportMetaFinder at 0x7f7b64324f40>)"
      ]
     },
     "execution_count": 2,
     "metadata": {},
     "output_type": "execute_result"
    }
   ],
   "source": [
    "import numpy as np\n",
    "import matplotlib.pyplot as plt\n",
    "\n",
    "import tracemalloc\n",
    "\n",
    "import pstats, cProfile\n",
    "import pyximport\n",
    "pyximport.install()"
   ]
  },
  {
   "cell_type": "code",
   "execution_count": 4,
   "metadata": {},
   "outputs": [],
   "source": [
    "X = np.loadtxt(\"largeX\")"
   ]
  },
  {
   "cell_type": "markdown",
   "metadata": {},
   "source": [
    "## Runtime Profiling: "
   ]
  },
  {
   "cell_type": "markdown",
   "metadata": {},
   "source": [
    "- knn chain"
   ]
  },
  {
   "cell_type": "code",
   "execution_count": 9,
   "metadata": {},
   "outputs": [
    {
     "name": "stdout",
     "output_type": "stream",
     "text": [
      "Mon Jul 15 19:55:40 2024    Profile.prof\n",
      "\n",
      "         284 function calls in 7.714 seconds\n",
      "\n",
      "   Ordered by: internal time\n",
      "\n",
      "   ncalls  tottime  percall  cumtime  percall filename:lineno(function)\n",
      "        1    7.712    7.712    7.713    7.713 {built-in method knn_chain.knn_chain}\n",
      "       28    0.001    0.000    0.001    0.000 ipkernel.py:770(_clean_thread_parent_frames)\n",
      "        1    0.000    0.000    7.714    7.714 <string>:1(<module>)\n",
      "       14    0.000    0.000    0.000    0.000 threading.py:1478(enumerate)\n",
      "       14    0.000    0.000    0.000    0.000 ipkernel.py:785(<setcomp>)\n",
      "       98    0.000    0.000    0.000    0.000 threading.py:1145(ident)\n",
      "        1    0.000    0.000    7.714    7.714 {built-in method builtins.exec}\n",
      "        1    0.000    0.000    0.000    0.000 {method 'disable' of '_lsprof.Profiler' objects}\n",
      "       56    0.000    0.000    0.000    0.000 {method 'keys' of 'dict' objects}\n",
      "       28    0.000    0.000    0.000    0.000 {method 'values' of 'dict' objects}\n",
      "       14    0.000    0.000    0.000    0.000 {method '__exit__' of '_thread.RLock' objects}\n",
      "       28    0.000    0.000    0.000    0.000 {built-in method builtins.isinstance}\n",
      "\n",
      "\n"
     ]
    },
    {
     "data": {
      "text/plain": [
       "<pstats.Stats at 0x7f8d006b1510>"
      ]
     },
     "execution_count": 9,
     "metadata": {},
     "output_type": "execute_result"
    }
   ],
   "source": [
    "cProfile.runctx(\"knn_chain(X, 1)\", globals(), locals(), \"Profile.prof\")\n",
    "s_1 = pstats.Stats(\"Profile.prof\")\n",
    "s_1.strip_dirs().sort_stats(\"time\").print_stats()"
   ]
  },
  {
   "cell_type": "code",
   "execution_count": 5,
   "metadata": {},
   "outputs": [
    {
     "name": "stdout",
     "output_type": "stream",
     "text": [
      "Mon Jul 15 19:56:21 2024    Profile.prof\n",
      "\n",
      "         284 function calls in 5.826 seconds\n",
      "\n",
      "   Ordered by: internal time\n",
      "\n",
      "   ncalls  tottime  percall  cumtime  percall filename:lineno(function)\n",
      "        1    5.825    5.825    5.826    5.826 {built-in method knn_chain.knn_chain}\n",
      "       28    0.001    0.000    0.001    0.000 ipkernel.py:770(_clean_thread_parent_frames)\n",
      "        1    0.000    0.000    5.826    5.826 <string>:1(<module>)\n",
      "       14    0.000    0.000    0.000    0.000 threading.py:1478(enumerate)\n",
      "       14    0.000    0.000    0.000    0.000 ipkernel.py:785(<setcomp>)\n",
      "       98    0.000    0.000    0.000    0.000 threading.py:1145(ident)\n",
      "        1    0.000    0.000    5.826    5.826 {built-in method builtins.exec}\n",
      "        1    0.000    0.000    0.000    0.000 {method 'disable' of '_lsprof.Profiler' objects}\n",
      "       56    0.000    0.000    0.000    0.000 {method 'keys' of 'dict' objects}\n",
      "       28    0.000    0.000    0.000    0.000 {method 'values' of 'dict' objects}\n",
      "       14    0.000    0.000    0.000    0.000 {method '__exit__' of '_thread.RLock' objects}\n",
      "       28    0.000    0.000    0.000    0.000 {built-in method builtins.isinstance}\n",
      "\n",
      "\n"
     ]
    },
    {
     "data": {
      "text/plain": [
       "<pstats.Stats at 0x7fece05ab6d0>"
      ]
     },
     "execution_count": 5,
     "metadata": {},
     "output_type": "execute_result"
    }
   ],
   "source": [
    "cProfile.runctx(\"knn_chain(X, 3)\", globals(), locals(), \"Profile.prof\")\n",
    "s_3 = pstats.Stats(\"Profile.prof\")\n",
    "s_3.strip_dirs().sort_stats(\"time\").print_stats()"
   ]
  },
  {
   "cell_type": "code",
   "execution_count": 6,
   "metadata": {},
   "outputs": [
    {
     "name": "stdout",
     "output_type": "stream",
     "text": [
      "Mon Jul 15 19:56:30 2024    Profile.prof\n",
      "\n",
      "         284 function calls in 5.543 seconds\n",
      "\n",
      "   Ordered by: internal time\n",
      "\n",
      "   ncalls  tottime  percall  cumtime  percall filename:lineno(function)\n",
      "        1    5.540    5.540    5.543    5.543 {built-in method knn_chain.knn_chain}\n",
      "       28    0.002    0.000    0.002    0.000 ipkernel.py:770(_clean_thread_parent_frames)\n",
      "        1    0.000    0.000    5.543    5.543 <string>:1(<module>)\n",
      "       14    0.000    0.000    0.000    0.000 threading.py:1478(enumerate)\n",
      "       14    0.000    0.000    0.000    0.000 ipkernel.py:785(<setcomp>)\n",
      "       98    0.000    0.000    0.000    0.000 threading.py:1145(ident)\n",
      "        1    0.000    0.000    5.543    5.543 {built-in method builtins.exec}\n",
      "       56    0.000    0.000    0.000    0.000 {method 'keys' of 'dict' objects}\n",
      "       28    0.000    0.000    0.000    0.000 {method 'values' of 'dict' objects}\n",
      "       14    0.000    0.000    0.000    0.000 {method '__exit__' of '_thread.RLock' objects}\n",
      "       28    0.000    0.000    0.000    0.000 {built-in method builtins.isinstance}\n",
      "        1    0.000    0.000    0.000    0.000 {method 'disable' of '_lsprof.Profiler' objects}\n",
      "\n",
      "\n"
     ]
    },
    {
     "data": {
      "text/plain": [
       "<pstats.Stats at 0x7fece05ab5e0>"
      ]
     },
     "execution_count": 6,
     "metadata": {},
     "output_type": "execute_result"
    }
   ],
   "source": [
    "cProfile.runctx(\"knn_chain(X, 5)\", globals(), locals(), \"Profile.prof\")\n",
    "s_5 = pstats.Stats(\"Profile.prof\")\n",
    "s_5.strip_dirs().sort_stats(\"time\").print_stats()"
   ]
  },
  {
   "cell_type": "code",
   "execution_count": null,
   "metadata": {},
   "outputs": [
    {
     "ename": "",
     "evalue": "",
     "output_type": "error",
     "traceback": [
      "\u001b[1;31mThe Kernel crashed while executing code in the current cell or a previous cell. \n",
      "\u001b[1;31mPlease review the code in the cell(s) to identify a possible cause of the failure. \n",
      "\u001b[1;31mClick <a href='https://aka.ms/vscodeJupyterKernelCrash'>here</a> for more info. \n",
      "\u001b[1;31mView Jupyter <a href='command:jupyter.viewOutput'>log</a> for further details."
     ]
    }
   ],
   "source": [
    "cProfile.runctx(\"knn_chain(X, 6)\", globals(), locals(), \"Profile.prof\")\n",
    "s_6 = pstats.Stats(\"Profile.prof\")\n",
    "s_6.strip_dirs().sort_stats(\"time\").print_stats()"
   ]
  },
  {
   "cell_type": "markdown",
   "metadata": {},
   "source": [
    "- SciPy"
   ]
  },
  {
   "cell_type": "code",
   "execution_count": null,
   "metadata": {},
   "outputs": [
    {
     "name": "stdout",
     "output_type": "stream",
     "text": [
      "Fri Jul 12 14:57:13 2024    Profile.prof\n",
      "\n",
      "         14 function calls in 3.661 seconds\n",
      "\n",
      "   Ordered by: internal time\n",
      "\n",
      "   ncalls  tottime  percall  cumtime  percall filename:lineno(function)\n",
      "        1    3.660    3.660    3.660    3.660 {built-in method scipy.spatial._distance_pybind.pdist_euclidean}\n",
      "        1    0.001    0.001    3.661    3.661 <string>:1(<module>)\n",
      "        1    0.000    0.000    3.660    3.660 distance.py:1961(pdist)\n",
      "        1    0.000    0.000    3.661    3.661 {built-in method builtins.exec}\n",
      "        1    0.000    0.000    0.000    0.000 _util.py:241(_asarray_validated)\n",
      "        1    0.000    0.000    0.000    0.000 {method 'disable' of '_lsprof.Profiler' objects}\n",
      "        1    0.000    0.000    0.000    0.000 _base.py:1291(isspmatrix)\n",
      "        2    0.000    0.000    0.000    0.000 {built-in method builtins.isinstance}\n",
      "        1    0.000    0.000    0.000    0.000 {method 'get' of 'dict' objects}\n",
      "        1    0.000    0.000    0.000    0.000 {built-in method numpy.asarray}\n",
      "        1    0.000    0.000    0.000    0.000 {method 'lower' of 'str' objects}\n",
      "        1    0.000    0.000    0.000    0.000 {built-in method builtins.len}\n",
      "        1    0.000    0.000    0.000    0.000 {built-in method builtins.callable}\n",
      "\n",
      "\n"
     ]
    }
   ],
   "source": [
    "cProfile.runctx(\"pdist(X)\", globals(), locals(), \"Profile.prof\")\n",
    "s = pstats.Stats(\"Profile.prof\")\n",
    "s.strip_dirs().sort_stats(\"time\").print_stats()\n",
    "y = pdist(X) "
   ]
  },
  {
   "cell_type": "code",
   "execution_count": null,
   "metadata": {},
   "outputs": [
    {
     "name": "stdout",
     "output_type": "stream",
     "text": [
      "Fri Jul 12 14:57:21 2024    Profile.prof\n",
      "\n",
      "         52 function calls in 3.862 seconds\n",
      "\n",
      "   Ordered by: internal time\n",
      "\n",
      "   ncalls  tottime  percall  cumtime  percall filename:lineno(function)\n",
      "        1    3.770    3.770    3.778    3.778 {scipy.cluster._hierarchy.nn_chain}\n",
      "        1    0.048    0.048    3.862    3.862 {built-in method builtins.exec}\n",
      "        1    0.032    0.032    3.814    3.814 hierarchy.py:837(linkage)\n",
      "        1    0.008    0.008    0.008    0.008 {method 'argsort' of 'numpy.ndarray' objects}\n",
      "        1    0.003    0.003    0.003    0.003 {method 'reduce' of 'numpy.ufunc' objects}\n",
      "        1    0.000    0.000    3.814    3.814 <string>:1(<module>)\n",
      "        1    0.000    0.000    0.000    0.000 fromnumeric.py:1034(_argsort_dispatcher)\n",
      "        2    0.000    0.000    0.000    0.000 distance.py:2475(is_valid_y)\n",
      "        4    0.000    0.000    0.012    0.003 {built-in method numpy.core._multiarray_umath.implement_array_function}\n",
      "        1    0.000    0.000    0.003    0.003 fromnumeric.py:69(_wrapreduction)\n",
      "        2    0.000    0.000    0.000    0.000 numeric.py:150(ones)\n",
      "        1    0.000    0.000    0.003    0.003 <__array_function__ internals>:177(all)\n",
      "        2    0.000    0.000    0.000    0.000 {built-in method numpy.empty}\n",
      "        2    0.000    0.000    0.000    0.000 <__array_function__ internals>:177(copyto)\n",
      "        1    0.000    0.000    0.000    0.000 hierarchy.py:1570(_convert_to_double)\n",
      "        4    0.000    0.000    0.000    0.000 {built-in method numpy.asarray}\n",
      "        1    0.000    0.000    3.814    3.814 hierarchy.py:738(ward)\n",
      "        1    0.000    0.000    0.003    0.003 fromnumeric.py:2432(all)\n",
      "        1    0.000    0.000    0.000    0.000 distance.py:2553(num_obs_y)\n",
      "        1    0.000    0.000    0.008    0.008 <__array_function__ internals>:177(argsort)\n",
      "        1    0.000    0.000    0.008    0.008 fromnumeric.py:51(_wrapfunc)\n",
      "        2    0.000    0.000    0.000    0.000 numerictypes.py:228(obj2sctype)\n",
      "        1    0.000    0.000    0.000    0.000 hierarchy.py:162(_copy_array_if_base_present)\n",
      "        1    0.000    0.000    0.000    0.000 numerictypes.py:324(issubsctype)\n",
      "        1    0.000    0.000    0.008    0.008 fromnumeric.py:1038(argsort)\n",
      "        1    0.000    0.000    0.000    0.000 fromnumeric.py:70(<dictcomp>)\n",
      "        1    0.000    0.000    0.000    0.000 {built-in method builtins.getattr}\n",
      "        1    0.000    0.000    0.000    0.000 hierarchy.py:174(_copy_arrays_if_base_present)\n",
      "        1    0.000    0.000    0.000    0.000 hierarchy.py:181(<listcomp>)\n",
      "        1    0.000    0.000    0.000    0.000 fromnumeric.py:2427(_all_dispatcher)\n",
      "        1    0.000    0.000    0.000    0.000 {method 'disable' of '_lsprof.Profiler' objects}\n",
      "        2    0.000    0.000    0.000    0.000 multiarray.py:1079(copyto)\n",
      "        2    0.000    0.000    0.000    0.000 {built-in method builtins.len}\n",
      "        1    0.000    0.000    0.000    0.000 {method 'items' of 'dict' objects}\n",
      "        3    0.000    0.000    0.000    0.000 {built-in method builtins.isinstance}\n",
      "        2    0.000    0.000    0.000    0.000 {built-in method builtins.issubclass}\n",
      "\n",
      "\n"
     ]
    },
    {
     "data": {
      "text/plain": [
       "<pstats.Stats at 0x7fba200d7460>"
      ]
     },
     "metadata": {},
     "output_type": "display_data"
    }
   ],
   "source": [
    "cProfile.runctx(\"ward(y)\", globals(), locals(), \"Profile.prof\")\n",
    "s = pstats.Stats(\"Profile.prof\")\n",
    "s.strip_dirs().sort_stats(\"time\").print_stats()"
   ]
  },
  {
   "cell_type": "code",
   "execution_count": 3,
   "metadata": {},
   "outputs": [],
   "source": [
    "s_1 = 7.714\n",
    "s_3 = 5.826  \n",
    "s_5 = 5.543\n",
    "s_6 = 5.334\n",
    "cpp_ks = [s_1, s_3, s_5, s_6]\n",
    "scipy = [3.661 + 3.862, 0, 0, 0]\n",
    "cython_ks = [164.49897244100003, 116.909539685, 109.09509564100003, 97.523025631]\n",
    "ks = [\"k = 1\", \"k = 3\", \"k = 5\", \"k = 6\"]\n",
    "all_ks = np.append(cpp_ks + cython_ks, scipy)"
   ]
  },
  {
   "cell_type": "code",
   "execution_count": 8,
   "metadata": {},
   "outputs": [
    {
     "data": {
      "image/png": "[encoded data removed]",
      "text/plain": [
       "<Figure size 640x480 with 1 Axes>"
      ]
     },
     "metadata": {},
     "output_type": "display_data"
    }
   ],
   "source": [
    "N = 4\n",
    "ind = np.arange(N)  \n",
    "width = 0.25\n",
    "  \n",
    "bar1 = plt.bar(ind, cython_ks, width, color = '#D81B60') \n",
    "bar2 = plt.bar(ind+width, cpp_ks, width, color='#FFC107') \n",
    "bar3 = plt.bar(ind+width*2, scipy, width, color = '#1E88E5') \n",
    "\n",
    "for rect in bar1:\n",
    "    height = rect.get_height()\n",
    "    plt.text(rect.get_x() + rect.get_width() / 2.0, height, f'{height:.2f}', fontsize=8, ha='center', va='bottom')\n",
    "\n",
    "for rect in bar2:\n",
    "    height = rect.get_height()\n",
    "    plt.text(rect.get_x() + rect.get_width() / 2.0, height, f'{height:.2f}', fontsize=8, ha='center', va='bottom')\n",
    "\n",
    "height = bar3[0].get_height()\n",
    "plt.text(bar3[0].get_x() + bar3[0].get_width() / 2.0, height, f'{height:.2f}', fontsize=8, ha='center', va='bottom')\n",
    "\n",
    "plt.title(\"Execution time comparison\")\n",
    "plt.xlabel(\"Value of k\")\n",
    "plt.ylabel(\"Execution time in seconds\")\n",
    "  \n",
    "plt.xticks(ind+width,ks) \n",
    "plt.legend( (bar1, bar2, bar3), (\"Cython k-nn chain\", \"C++ k-nn chain\", \"SciPy nn-chain\") ) \n",
    "plt.show() "
   ]
  },
  {
   "cell_type": "markdown",
   "metadata": {},
   "source": [
    "## Memory Profiling"
   ]
  },
  {
   "cell_type": "markdown",
   "metadata": {},
   "source": [
    "- knn chain"
   ]
  },
  {
   "cell_type": "code",
   "execution_count": 25,
   "metadata": {},
   "outputs": [
    {
     "name": "stdout",
     "output_type": "stream",
     "text": [
      "(10002, 1916728)\n"
     ]
    }
   ],
   "source": [
    "tracemalloc.start()\n",
    "\n",
    "knn_chain(X, 1)\n",
    "\n",
    "print(tracemalloc.get_traced_memory())\n",
    "tracemalloc.stop()"
   ]
  },
  {
   "cell_type": "code",
   "execution_count": 24,
   "metadata": {},
   "outputs": [
    {
     "name": "stdout",
     "output_type": "stream",
     "text": [
      "(9180, 1912780)\n"
     ]
    }
   ],
   "source": [
    "tracemalloc.start()\n",
    "\n",
    "knn_chain(X, 3)\n",
    "\n",
    "print(tracemalloc.get_traced_memory())\n",
    "tracemalloc.stop()"
   ]
  },
  {
   "cell_type": "code",
   "execution_count": 5,
   "metadata": {},
   "outputs": [
    {
     "name": "stdout",
     "output_type": "stream",
     "text": [
      "(8822, 1919514)\n"
     ]
    }
   ],
   "source": [
    "tracemalloc.start()\n",
    "\n",
    "knn_chain(X, 5)\n",
    "\n",
    "print(tracemalloc.get_traced_memory())\n",
    "tracemalloc.stop()"
   ]
  },
  {
   "cell_type": "code",
   "execution_count": 6,
   "metadata": {},
   "outputs": [
    {
     "name": "stdout",
     "output_type": "stream",
     "text": [
      "(8343, 1915810)\n"
     ]
    }
   ],
   "source": [
    "tracemalloc.start()\n",
    "\n",
    "knn_chain(X, 6)\n",
    "\n",
    "print(tracemalloc.get_traced_memory())\n",
    "tracemalloc.stop()"
   ]
  },
  {
   "cell_type": "markdown",
   "metadata": {},
   "source": [
    "- SciPy"
   ]
  },
  {
   "cell_type": "code",
   "execution_count": 9,
   "metadata": {},
   "outputs": [
    {
     "name": "stdout",
     "output_type": "stream",
     "text": [
      "(404875046, 804841721)\n"
     ]
    }
   ],
   "source": [
    "tracemalloc.start()\n",
    "\n",
    "d = pdist(X)\n",
    "ward(d)\n",
    "\n",
    "print(tracemalloc.get_traced_memory())\n",
    "tracemalloc.stop()"
   ]
  },
  {
   "cell_type": "code",
   "execution_count": 13,
   "metadata": {},
   "outputs": [],
   "source": [
    "ks = [\"k = 1\", \"k = 3\", \"k = 5\", \"k = 6\"]\n",
    "peaks_knn = [1916728, 1912780, 1919514, 1915810]\n",
    "peak_scipy = [804841721, 0, 0, 0]"
   ]
  },
  {
   "cell_type": "code",
   "execution_count": 21,
   "metadata": {},
   "outputs": [
    {
     "data": {
      "image/png": "[encoded data removed]",
      "text/plain": [
       "<Figure size 640x480 with 1 Axes>"
      ]
     },
     "metadata": {},
     "output_type": "display_data"
    }
   ],
   "source": [
    "N = 4\n",
    "ind = np.arange(N)  \n",
    "width = 0.4\n",
    "  \n",
    "bar1 = plt.bar(ind, peaks_knn, width, color = '#D81B60') \n",
    "bar2 = plt.bar(ind+width, peak_scipy, width, color='#FFC107') \n",
    "\n",
    "for rect in bar1:\n",
    "    height = rect.get_height()\n",
    "    plt.text(rect.get_x() + rect.get_width() / 2.0, height, f'{height:,.0f}'.replace(',', ' '), fontsize=6, ha='center', va='bottom')\n",
    "\n",
    "height = bar2[0].get_height()\n",
    "plt.text(bar2[0].get_x() + bar2[0].get_width() / 2.0, height, f'{height:,.0f}'.replace(',', ' '), fontsize=6, ha='center', va='bottom')\n",
    "\n",
    "plt.yscale('log')\n",
    "\n",
    "plt.title(\"Peak Memory Consumption comparison\")\n",
    "plt.xlabel(\"Value of k\")\n",
    "plt.ylabel(\"Memory Usage\")\n",
    "  \n",
    "plt.xticks(ind+width,ks) \n",
    "plt.legend( (bar1, bar2), (\"C++ k-nn chain\", \"SciPy nn-chain\") ) \n",
    "plt.show() "
   ]
  },
  {
   "cell_type": "markdown",
   "metadata": {},
   "source": [
    "## Dendrogram to analyse correctness"
   ]
  },
  {
   "cell_type": "code",
   "execution_count": 6,
   "metadata": {},
   "outputs": [
    {
     "name": "stdout",
     "output_type": "stream",
     "text": [
      "Defaulting to user installation because normal site-packages is not writeable\n",
      "Collecting scikit-learn\n",
      "  Downloading scikit_learn-1.5.1-cp310-cp310-manylinux_2_17_x86_64.manylinux2014_x86_64.whl (13.4 MB)\n",
      "\u001b[2K     \u001b[90m━━━━━━━━━━━━━━━━━━━━━━━━━━━━━━━━━━━━━━━━\u001b[0m \u001b[32m13.4/13.4 MB\u001b[0m \u001b[31m37.0 MB/s\u001b[0m eta \u001b[36m0:00:00\u001b[0m00:01\u001b[0m00:01\u001b[0m\n",
      "\u001b[?25hRequirement already satisfied: scipy>=1.6.0 in /usr/lib/python3/dist-packages (from scikit-learn) (1.8.0)\n",
      "Requirement already satisfied: joblib>=1.2.0 in /home/infres/nnymand-23/.local/lib/python3.10/site-packages (from scikit-learn) (1.3.2)\n",
      "Collecting threadpoolctl>=3.1.0\n",
      "  Downloading threadpoolctl-3.5.0-py3-none-any.whl (18 kB)\n",
      "Requirement already satisfied: numpy>=1.19.5 in /home/infres/nnymand-23/.local/lib/python3.10/site-packages (from scikit-learn) (1.24.4)\n",
      "Installing collected packages: threadpoolctl, scikit-learn\n",
      "Successfully installed scikit-learn-1.5.1 threadpoolctl-3.5.0\n",
      "Note: you may need to restart the kernel to use updated packages.\n"
     ]
    }
   ],
   "source": [
    "pip install scikit-learn"
   ]
  },
  {
   "cell_type": "code",
   "execution_count": 12,
   "metadata": {},
   "outputs": [],
   "source": [
    "from sklearn.datasets import load_iris\n",
    "from scipy.cluster.hierarchy import dendrogram, linkage\n",
    "\n",
    "iris = load_iris()\n",
    "X = iris.data"
   ]
  },
  {
   "cell_type": "code",
   "execution_count": 10,
   "metadata": {},
   "outputs": [],
   "source": [
    "out1 = knn_chain(X, 1)"
   ]
  },
  {
   "cell_type": "code",
   "execution_count": 11,
   "metadata": {},
   "outputs": [],
   "source": [
    "y = pdist(X)\n",
    "out2 = ward(y)"
   ]
  },
  {
   "cell_type": "code",
   "execution_count": 18,
   "metadata": {},
   "outputs": [
    {
     "data": {
      "image/png": "[encoded data removed]",
      "text/plain": [
       "<Figure size 1000x700 with 1 Axes>"
      ]
     },
     "metadata": {},
     "output_type": "display_data"
    }
   ],
   "source": [
    "plt.figure(figsize=(10, 7))\n",
    "dendrogram(out1, labels=iris.target, leaf_rotation=90, leaf_font_size=10)\n",
    "plt.show()"
   ]
  },
  {
   "cell_type": "code",
   "execution_count": 19,
   "metadata": {},
   "outputs": [
    {
     "data": {
      "image/png": "[encoded data removed]",
      "text/plain": [
       "<Figure size 1000x700 with 1 Axes>"
      ]
     },
     "metadata": {},
     "output_type": "display_data"
    }
   ],
   "source": [
    "plt.figure(figsize=(10, 7))\n",
    "dendrogram(out2, labels=iris.target, leaf_rotation=90, leaf_font_size=10)\n",
    "plt.show()"
   ]
  },
  {
   "cell_type": "markdown",
   "metadata": {},
   "source": [
    "- prev results"
   ]
  },
  {
   "cell_type": "code",
   "execution_count": null,
   "metadata": {},
   "outputs": [],
   "source": [
    "# PREV RESULTS FOR IMPORTED LIB\n",
    "# k = 1 ==> 30 s\n",
    "# k = 6 ==> 18 s\n",
    "\n",
    "# avg = 0.0\n",
    "\n",
    "# for i in range(10):\n",
    "#     cProfile.runctx(\"knn_chain(X, 1)\", globals(), locals(), \"Profile.prof\")\n",
    "#     s = pstats.Stats(\"Profile.prof\")\n",
    "#     avg += s.strip_dirs().sort_stats(\"time\").total_tt\n",
    "    \n",
    "# print(f\"avg = {avg/10}\")\n",
    "# s.strip_dirs().sort_stats(\"time\").print_stats()"
   ]
  }
 ],
 "metadata": {
  "kernelspec": {
   "display_name": "Python 3",
   "language": "python",
   "name": "python3"
  },
  "language_info": {
   "codemirror_mode": {
    "name": "ipython",
    "version": 3
   },
   "file_extension": ".py",
   "mimetype": "text/x-python",
   "name": "python",
   "nbconvert_exporter": "python",
   "pygments_lexer": "ipython3",
   "version": "3.10.12"
  }
 },
 "nbformat": 4,
 "nbformat_minor": 2
}
