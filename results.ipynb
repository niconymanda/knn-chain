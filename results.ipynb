{
 "cells": [
  {
   "cell_type": "code",
   "execution_count": 7,
   "metadata": {},
   "outputs": [],
   "source": [
    "from knn_chain import knn_chain"
   ]
  },
  {
   "cell_type": "code",
   "execution_count": 1,
   "metadata": {},
   "outputs": [],
   "source": [
    "from scipy.cluster.hierarchy import ward\n",
    "from scipy.spatial.distance import pdist"
   ]
  },
  {
   "cell_type": "code",
   "execution_count": 2,
   "metadata": {},
   "outputs": [
    {
     "data": {
      "text/plain": [
       "(None, <pyximport._pyximport3.PyxImportMetaFinder at 0x7fb6a5a333d0>)"
      ]
     },
     "execution_count": 2,
     "metadata": {},
     "output_type": "execute_result"
    }
   ],
   "source": [
    "import numpy as np\n",
    "import matplotlib.pyplot as plt\n",
    "\n",
    "import tracemalloc\n",
    "\n",
    "import pstats, cProfile\n",
    "import pyximport\n",
    "pyximport.install()"
   ]
  },
  {
   "cell_type": "code",
   "execution_count": 3,
   "metadata": {},
   "outputs": [
    {
     "name": "stdout",
     "output_type": "stream",
     "text": [
      "Shape of small X =  (1000, 10)\n",
      "Shape of medium X =  (10000, 100)\n",
      "Shape of large X =  (40000, 100)\n"
     ]
    }
   ],
   "source": [
    "smallX = np.loadtxt(\"X\")\n",
    "mediumX = np.loadtxt(\"largeX\")\n",
    "largeX = np.loadtxt(\"xlX\")\n",
    "print(\"Shape of small X = \", smallX.shape)\n",
    "print(\"Shape of medium X = \", mediumX.shape)\n",
    "print(\"Shape of large X = \", largeX.shape)"
   ]
  },
  {
   "cell_type": "markdown",
   "metadata": {},
   "source": [
    "## Runtime Profiling: "
   ]
  },
  {
   "cell_type": "markdown",
   "metadata": {},
   "source": [
    "- knn chain"
   ]
  },
  {
   "cell_type": "code",
   "execution_count": 14,
   "metadata": {},
   "outputs": [
    {
     "name": "stdout",
     "output_type": "stream",
     "text": [
      "Thu Jul 18 13:42:50 2024    Profile.prof\n",
      "\n",
      "         284 function calls in 8.545 seconds\n",
      "\n",
      "   Ordered by: internal time\n",
      "\n",
      "   ncalls  tottime  percall  cumtime  percall filename:lineno(function)\n",
      "        1    8.543    8.543    8.545    8.545 {built-in method knn_chain.knn_chain}\n",
      "       28    0.002    0.000    0.002    0.000 ipkernel.py:770(_clean_thread_parent_frames)\n",
      "        1    0.000    0.000    8.545    8.545 <string>:1(<module>)\n",
      "       14    0.000    0.000    0.000    0.000 threading.py:1478(enumerate)\n",
      "       14    0.000    0.000    0.000    0.000 ipkernel.py:785(<setcomp>)\n",
      "       98    0.000    0.000    0.000    0.000 threading.py:1145(ident)\n",
      "        1    0.000    0.000    8.545    8.545 {built-in method builtins.exec}\n",
      "       56    0.000    0.000    0.000    0.000 {method 'keys' of 'dict' objects}\n",
      "       28    0.000    0.000    0.000    0.000 {method 'values' of 'dict' objects}\n",
      "       14    0.000    0.000    0.000    0.000 {method '__exit__' of '_thread.RLock' objects}\n",
      "       28    0.000    0.000    0.000    0.000 {built-in method builtins.isinstance}\n",
      "        1    0.000    0.000    0.000    0.000 {method 'disable' of '_lsprof.Profiler' objects}\n",
      "\n",
      "\n"
     ]
    },
    {
     "data": {
      "text/plain": [
       "<pstats.Stats at 0x7fb6a40e62f0>"
      ]
     },
     "execution_count": 14,
     "metadata": {},
     "output_type": "execute_result"
    }
   ],
   "source": [
    "cProfile.runctx(\"knn_chain(mediumX, 1)\", globals(), locals(), \"Profile.prof\")\n",
    "s_1 = pstats.Stats(\"Profile.prof\")\n",
    "s_1.strip_dirs().sort_stats(\"time\").print_stats()"
   ]
  },
  {
   "cell_type": "code",
   "execution_count": 6,
   "metadata": {},
   "outputs": [
    {
     "name": "stdout",
     "output_type": "stream",
     "text": [
      "Wed Jul 17 15:40:53 2024    Profile.prof\n",
      "\n",
      "         284 function calls in 12.594 seconds\n",
      "\n",
      "   Ordered by: internal time\n",
      "\n",
      "   ncalls  tottime  percall  cumtime  percall filename:lineno(function)\n",
      "        1   12.592   12.592   12.594   12.594 {built-in method knn_chain.knn_chain}\n",
      "       28    0.001    0.000    0.002    0.000 ipkernel.py:770(_clean_thread_parent_frames)\n",
      "        1    0.000    0.000   12.594   12.594 <string>:1(<module>)\n",
      "       14    0.000    0.000    0.000    0.000 threading.py:1478(enumerate)\n",
      "       98    0.000    0.000    0.000    0.000 threading.py:1145(ident)\n",
      "       14    0.000    0.000    0.000    0.000 ipkernel.py:785(<setcomp>)\n",
      "        1    0.000    0.000   12.594   12.594 {built-in method builtins.exec}\n",
      "       28    0.000    0.000    0.000    0.000 {method 'values' of 'dict' objects}\n",
      "       56    0.000    0.000    0.000    0.000 {method 'keys' of 'dict' objects}\n",
      "       14    0.000    0.000    0.000    0.000 {method '__exit__' of '_thread.RLock' objects}\n",
      "       28    0.000    0.000    0.000    0.000 {built-in method builtins.isinstance}\n",
      "        1    0.000    0.000    0.000    0.000 {method 'disable' of '_lsprof.Profiler' objects}\n",
      "\n",
      "\n"
     ]
    },
    {
     "data": {
      "text/plain": [
       "<pstats.Stats at 0x7f392844beb0>"
      ]
     },
     "execution_count": 6,
     "metadata": {},
     "output_type": "execute_result"
    }
   ],
   "source": [
    "cProfile.runctx(\"knn_chain(mediumX, 3)\", globals(), locals(), \"Profile.prof\")\n",
    "s_3 = pstats.Stats(\"Profile.prof\")\n",
    "s_3.strip_dirs().sort_stats(\"time\").print_stats()\n",
    "# 12.390, 12.594\n"
   ]
  },
  {
   "cell_type": "code",
   "execution_count": 6,
   "metadata": {},
   "outputs": [
    {
     "name": "stdout",
     "output_type": "stream",
     "text": [
      "Mon Jul 15 19:56:30 2024    Profile.prof\n",
      "\n",
      "         284 function calls in 5.543 seconds\n",
      "\n",
      "   Ordered by: internal time\n",
      "\n",
      "   ncalls  tottime  percall  cumtime  percall filename:lineno(function)\n",
      "        1    5.540    5.540    5.543    5.543 {built-in method knn_chain.knn_chain}\n",
      "       28    0.002    0.000    0.002    0.000 ipkernel.py:770(_clean_thread_parent_frames)\n",
      "        1    0.000    0.000    5.543    5.543 <string>:1(<module>)\n",
      "       14    0.000    0.000    0.000    0.000 threading.py:1478(enumerate)\n",
      "       14    0.000    0.000    0.000    0.000 ipkernel.py:785(<setcomp>)\n",
      "       98    0.000    0.000    0.000    0.000 threading.py:1145(ident)\n",
      "        1    0.000    0.000    5.543    5.543 {built-in method builtins.exec}\n",
      "       56    0.000    0.000    0.000    0.000 {method 'keys' of 'dict' objects}\n",
      "       28    0.000    0.000    0.000    0.000 {method 'values' of 'dict' objects}\n",
      "       14    0.000    0.000    0.000    0.000 {method '__exit__' of '_thread.RLock' objects}\n",
      "       28    0.000    0.000    0.000    0.000 {built-in method builtins.isinstance}\n",
      "        1    0.000    0.000    0.000    0.000 {method 'disable' of '_lsprof.Profiler' objects}\n",
      "\n",
      "\n"
     ]
    },
    {
     "data": {
      "text/plain": [
       "<pstats.Stats at 0x7fece05ab5e0>"
      ]
     },
     "execution_count": 6,
     "metadata": {},
     "output_type": "execute_result"
    }
   ],
   "source": [
    "cProfile.runctx(\"knn_chain(mediumX, 5)\", globals(), locals(), \"Profile.prof\")\n",
    "s_5 = pstats.Stats(\"Profile.prof\")\n",
    "s_5.strip_dirs().sort_stats(\"time\").print_stats()"
   ]
  },
  {
   "cell_type": "code",
   "execution_count": 9,
   "metadata": {},
   "outputs": [
    {
     "name": "stdout",
     "output_type": "stream",
     "text": [
      "Thu Jul 18 13:27:23 2024    Profile.prof\n",
      "\n",
      "         284 function calls in 5.697 seconds\n",
      "\n",
      "   Ordered by: internal time\n",
      "\n",
      "   ncalls  tottime  percall  cumtime  percall filename:lineno(function)\n",
      "        1    5.697    5.697    5.697    5.697 {built-in method knn_chain.knn_chain}\n",
      "       28    0.000    0.000    0.001    0.000 ipkernel.py:770(_clean_thread_parent_frames)\n",
      "        1    0.000    0.000    5.697    5.697 <string>:1(<module>)\n",
      "       14    0.000    0.000    0.000    0.000 threading.py:1478(enumerate)\n",
      "       14    0.000    0.000    0.000    0.000 ipkernel.py:785(<setcomp>)\n",
      "       98    0.000    0.000    0.000    0.000 threading.py:1145(ident)\n",
      "        1    0.000    0.000    5.697    5.697 {built-in method builtins.exec}\n",
      "       56    0.000    0.000    0.000    0.000 {method 'keys' of 'dict' objects}\n",
      "       28    0.000    0.000    0.000    0.000 {method 'values' of 'dict' objects}\n",
      "       14    0.000    0.000    0.000    0.000 {method '__exit__' of '_thread.RLock' objects}\n",
      "       28    0.000    0.000    0.000    0.000 {built-in method builtins.isinstance}\n",
      "        1    0.000    0.000    0.000    0.000 {method 'disable' of '_lsprof.Profiler' objects}\n",
      "\n",
      "\n"
     ]
    },
    {
     "data": {
      "text/plain": [
       "<pstats.Stats at 0x7fb6a3fc65f0>"
      ]
     },
     "execution_count": 9,
     "metadata": {},
     "output_type": "execute_result"
    }
   ],
   "source": [
    "cProfile.runctx(\"knn_chain(mediumX, 6)\", globals(), locals(), \"Profile.prof\")\n",
    "s_6 = pstats.Stats(\"Profile.prof\")\n",
    "s_6.strip_dirs().sort_stats(\"time\").print_stats()"
   ]
  },
  {
   "cell_type": "markdown",
   "metadata": {},
   "source": [
    "- SciPy"
   ]
  },
  {
   "cell_type": "code",
   "execution_count": 25,
   "metadata": {},
   "outputs": [
    {
     "name": "stdout",
     "output_type": "stream",
     "text": [
      "Thu Jul 18 14:00:42 2024    Profile.prof\n",
      "\n",
      "         14 function calls in 414.968 seconds\n",
      "\n",
      "   Ordered by: internal time\n",
      "\n",
      "   ncalls  tottime  percall  cumtime  percall filename:lineno(function)\n",
      "        1  414.914  414.914  414.914  414.914 {built-in method scipy.spatial._distance_pybind.pdist_euclidean}\n",
      "        1    0.053    0.053  414.968  414.968 <string>:1(<module>)\n",
      "        1    0.000    0.000  414.968  414.968 {built-in method builtins.exec}\n",
      "        1    0.000    0.000  414.914  414.914 distance.py:1961(pdist)\n",
      "        1    0.000    0.000    0.000    0.000 _util.py:241(_asarray_validated)\n",
      "        1    0.000    0.000    0.000    0.000 {method 'disable' of '_lsprof.Profiler' objects}\n",
      "        1    0.000    0.000    0.000    0.000 _base.py:1291(isspmatrix)\n",
      "        2    0.000    0.000    0.000    0.000 {built-in method builtins.isinstance}\n",
      "        1    0.000    0.000    0.000    0.000 {method 'get' of 'dict' objects}\n",
      "        1    0.000    0.000    0.000    0.000 {built-in method numpy.asarray}\n",
      "        1    0.000    0.000    0.000    0.000 {method 'lower' of 'str' objects}\n",
      "        1    0.000    0.000    0.000    0.000 {built-in method builtins.len}\n",
      "        1    0.000    0.000    0.000    0.000 {built-in method builtins.callable}\n",
      "\n",
      "\n"
     ]
    }
   ],
   "source": [
    "cProfile.runctx(\"pdist(largeX)\", globals(), locals(), \"Profile.prof\")\n",
    "s = pstats.Stats(\"Profile.prof\")\n",
    "s.strip_dirs().sort_stats(\"time\").print_stats()\n",
    "y = pdist(largeX) "
   ]
  },
  {
   "cell_type": "code",
   "execution_count": 26,
   "metadata": {},
   "outputs": [
    {
     "name": "stdout",
     "output_type": "stream",
     "text": [
      "Thu Jul 18 14:04:19 2024    Profile.prof\n",
      "\n",
      "         52 function calls in 80.938 seconds\n",
      "\n",
      "   Ordered by: internal time\n",
      "\n",
      "   ncalls  tottime  percall  cumtime  percall filename:lineno(function)\n",
      "        1   73.985   73.985   73.990   73.990 {scipy.cluster._hierarchy.nn_chain}\n",
      "        1    6.891    6.891   80.938   80.938 hierarchy.py:837(linkage)\n",
      "        1    0.056    0.056    0.056    0.056 {method 'reduce' of 'numpy.ufunc' objects}\n",
      "        1    0.004    0.004    0.004    0.004 {method 'argsort' of 'numpy.ndarray' objects}\n",
      "        1    0.000    0.000    0.000    0.000 fromnumeric.py:1034(_argsort_dispatcher)\n",
      "        4    0.000    0.000    0.061    0.015 {built-in method numpy.core._multiarray_umath.implement_array_function}\n",
      "        2    0.000    0.000    0.000    0.000 distance.py:2475(is_valid_y)\n",
      "        1    0.000    0.000    0.057    0.057 <__array_function__ internals>:177(all)\n",
      "        2    0.000    0.000    0.000    0.000 numeric.py:150(ones)\n",
      "        1    0.000    0.000   80.938   80.938 {built-in method builtins.exec}\n",
      "        1    0.000    0.000    0.057    0.057 fromnumeric.py:69(_wrapreduction)\n",
      "        1    0.000    0.000    0.004    0.004 fromnumeric.py:51(_wrapfunc)\n",
      "        1    0.000    0.000    0.004    0.004 <__array_function__ internals>:177(argsort)\n",
      "        1    0.000    0.000   80.938   80.938 hierarchy.py:738(ward)\n",
      "        2    0.000    0.000    0.000    0.000 {built-in method numpy.empty}\n",
      "        1    0.000    0.000    0.000    0.000 hierarchy.py:1570(_convert_to_double)\n",
      "        1    0.000    0.000    0.057    0.057 fromnumeric.py:2432(all)\n",
      "        2    0.000    0.000    0.000    0.000 <__array_function__ internals>:177(copyto)\n",
      "        1    0.000    0.000   80.938   80.938 <string>:1(<module>)\n",
      "        1    0.000    0.000    0.000    0.000 distance.py:2553(num_obs_y)\n",
      "        2    0.000    0.000    0.000    0.000 numerictypes.py:228(obj2sctype)\n",
      "        1    0.000    0.000    0.004    0.004 fromnumeric.py:1038(argsort)\n",
      "        1    0.000    0.000    0.000    0.000 hierarchy.py:162(_copy_array_if_base_present)\n",
      "        1    0.000    0.000    0.000    0.000 {built-in method builtins.getattr}\n",
      "        1    0.000    0.000    0.000    0.000 numerictypes.py:324(issubsctype)\n",
      "        4    0.000    0.000    0.000    0.000 {built-in method numpy.asarray}\n",
      "        1    0.000    0.000    0.000    0.000 fromnumeric.py:70(<dictcomp>)\n",
      "        1    0.000    0.000    0.000    0.000 hierarchy.py:174(_copy_arrays_if_base_present)\n",
      "        1    0.000    0.000    0.000    0.000 fromnumeric.py:2427(_all_dispatcher)\n",
      "        1    0.000    0.000    0.000    0.000 hierarchy.py:181(<listcomp>)\n",
      "        2    0.000    0.000    0.000    0.000 multiarray.py:1079(copyto)\n",
      "        1    0.000    0.000    0.000    0.000 {method 'disable' of '_lsprof.Profiler' objects}\n",
      "        2    0.000    0.000    0.000    0.000 {built-in method builtins.len}\n",
      "        1    0.000    0.000    0.000    0.000 {method 'items' of 'dict' objects}\n",
      "        2    0.000    0.000    0.000    0.000 {built-in method builtins.issubclass}\n",
      "        3    0.000    0.000    0.000    0.000 {built-in method builtins.isinstance}\n",
      "\n",
      "\n"
     ]
    },
    {
     "data": {
      "text/plain": [
       "<pstats.Stats at 0x7fb6a2b11fc0>"
      ]
     },
     "execution_count": 26,
     "metadata": {},
     "output_type": "execute_result"
    }
   ],
   "source": [
    "cProfile.runctx(\"ward(y)\", globals(), locals(), \"Profile.prof\")\n",
    "s = pstats.Stats(\"Profile.prof\")\n",
    "s.strip_dirs().sort_stats(\"time\").print_stats()"
   ]
  },
  {
   "cell_type": "code",
   "execution_count": 28,
   "metadata": {},
   "outputs": [],
   "source": [
    "l_scipy = [414.968 + 80.938, 0, 0, 0]"
   ]
  },
  {
   "cell_type": "code",
   "execution_count": 59,
   "metadata": {},
   "outputs": [],
   "source": [
    "s_1 = 7.714\n",
    "s_3 = 5.826  \n",
    "s_5 = 5.543\n",
    "s_6 = 5.334\n",
    "cpp_ks = [s_1, s_3, s_5, s_6]\n",
    "scipy = [3.661 + 3.862, 0, 0, 0]\n",
    "cython_ks = [164.49897244100003, 116.909539685, 109.09509564100003, 97.523025631]\n",
    "ks = [\"k = 1\", \"k = 3\", \"k = 5\", \"k = 6\"]\n",
    "all_ks = np.append(cpp_ks + cython_ks, scipy)"
   ]
  },
  {
   "cell_type": "code",
   "execution_count": 5,
   "metadata": {},
   "outputs": [
    {
     "data": {
      "image/png": "[encoded data removed]",
      "text/plain": [
       "<Figure size 640x480 with 1 Axes>"
      ]
     },
     "metadata": {},
     "output_type": "display_data"
    }
   ],
   "source": [
    "N = 4\n",
    "ind = np.arange(N)  \n",
    "width = 0.25\n",
    "  \n",
    "bar1 = plt.bar(ind, cython_ks, width, color = '#D81B60') \n",
    "bar2 = plt.bar(ind+width, cpp_ks, width, color='#FFC107') \n",
    "bar3 = plt.bar(ind+width*2, scipy, width, color = '#1E88E5') \n",
    "\n",
    "for rect in bar1:\n",
    "    height = rect.get_height()\n",
    "    plt.text(rect.get_x() + rect.get_width() / 2.0, height, f'{height:.2f}', fontsize=8, ha='center', va='bottom')\n",
    "\n",
    "for rect in bar2:\n",
    "    height = rect.get_height()\n",
    "    plt.text(rect.get_x() + rect.get_width() / 2.0, height, f'{height:.2f}', fontsize=8, ha='center', va='bottom')\n",
    "\n",
    "height = bar3[0].get_height()\n",
    "plt.text(bar3[0].get_x() + bar3[0].get_width() / 2.0, height, f'{height:.2f}', fontsize=8, ha='center', va='bottom')\n",
    "\n",
    "plt.title(\"Execution time comparison\")\n",
    "plt.xlabel(\"Value of k\")\n",
    "plt.ylabel(\"Execution time in seconds\")\n",
    "  \n",
    "plt.xticks(ind+width,ks) \n",
    "plt.legend( (bar1, bar2, bar3), (\"Cython k-nn chain\", \"C++ k-nn chain\", \"SciPy nn-chain\") ) \n",
    "plt.show() "
   ]
  },
  {
   "cell_type": "markdown",
   "metadata": {},
   "source": [
    "### Checking different sizes of X"
   ]
  },
  {
   "cell_type": "code",
   "execution_count": 6,
   "metadata": {},
   "outputs": [
    {
     "name": "stdout",
     "output_type": "stream",
     "text": [
      "Thu Jul 18 12:33:43 2024    Profile.prof\n",
      "\n",
      "         24 function calls in 0.022 seconds\n",
      "\n",
      "   Ordered by: internal time\n",
      "\n",
      "   ncalls  tottime  percall  cumtime  percall filename:lineno(function)\n",
      "        1    0.021    0.021    0.022    0.022 {built-in method knn_chain.knn_chain}\n",
      "        2    0.000    0.000    0.000    0.000 ipkernel.py:770(_clean_thread_parent_frames)\n",
      "        1    0.000    0.000    0.022    0.022 {built-in method builtins.exec}\n",
      "        1    0.000    0.000    0.022    0.022 <string>:1(<module>)\n",
      "        1    0.000    0.000    0.000    0.000 threading.py:1478(enumerate)\n",
      "        1    0.000    0.000    0.000    0.000 ipkernel.py:785(<setcomp>)\n",
      "        7    0.000    0.000    0.000    0.000 threading.py:1145(ident)\n",
      "        2    0.000    0.000    0.000    0.000 {method 'values' of 'dict' objects}\n",
      "        4    0.000    0.000    0.000    0.000 {method 'keys' of 'dict' objects}\n",
      "        1    0.000    0.000    0.000    0.000 {method '__exit__' of '_thread.RLock' objects}\n",
      "        2    0.000    0.000    0.000    0.000 {built-in method builtins.isinstance}\n",
      "        1    0.000    0.000    0.000    0.000 {method 'disable' of '_lsprof.Profiler' objects}\n",
      "\n",
      "\n"
     ]
    }
   ],
   "source": [
    "cProfile.runctx(\"knn_chain(smallX, 1)\", globals(), locals(), \"Profile.prof\")\n",
    "s_1 = pstats.Stats(\"Profile.prof\")\n",
    "s_1.strip_dirs().sort_stats(\"time\").print_stats()"
   ]
  },
  {
   "cell_type": "code",
   "execution_count": 7,
   "metadata": {},
   "outputs": [
    {
     "name": "stdout",
     "output_type": "stream",
     "text": [
      "Thu Jul 18 12:33:43 2024    Profile.prof\n",
      "\n",
      "         24 function calls in 0.019 seconds\n",
      "\n",
      "   Ordered by: internal time\n",
      "\n",
      "   ncalls  tottime  percall  cumtime  percall filename:lineno(function)\n",
      "        1    0.018    0.018    0.019    0.019 {built-in method knn_chain.knn_chain}\n",
      "        2    0.001    0.000    0.001    0.001 ipkernel.py:770(_clean_thread_parent_frames)\n",
      "        1    0.000    0.000    0.019    0.019 <string>:1(<module>)\n",
      "        1    0.000    0.000    0.000    0.000 threading.py:1478(enumerate)\n",
      "        1    0.000    0.000    0.019    0.019 {built-in method builtins.exec}\n",
      "        7    0.000    0.000    0.000    0.000 threading.py:1145(ident)\n",
      "        1    0.000    0.000    0.000    0.000 ipkernel.py:785(<setcomp>)\n",
      "        2    0.000    0.000    0.000    0.000 {method 'values' of 'dict' objects}\n",
      "        1    0.000    0.000    0.000    0.000 {method '__exit__' of '_thread.RLock' objects}\n",
      "        4    0.000    0.000    0.000    0.000 {method 'keys' of 'dict' objects}\n",
      "        1    0.000    0.000    0.000    0.000 {method 'disable' of '_lsprof.Profiler' objects}\n",
      "        2    0.000    0.000    0.000    0.000 {built-in method builtins.isinstance}\n",
      "\n",
      "\n"
     ]
    }
   ],
   "source": [
    "cProfile.runctx(\"knn_chain(smallX, 3)\", globals(), locals(), \"Profile.prof\")\n",
    "s_3 = pstats.Stats(\"Profile.prof\")\n",
    "s_3.strip_dirs().sort_stats(\"time\").print_stats()"
   ]
  },
  {
   "cell_type": "code",
   "execution_count": 8,
   "metadata": {},
   "outputs": [
    {
     "name": "stdout",
     "output_type": "stream",
     "text": [
      "Thu Jul 18 12:33:44 2024    Profile.prof\n",
      "\n",
      "         24 function calls in 0.021 seconds\n",
      "\n",
      "   Ordered by: internal time\n",
      "\n",
      "   ncalls  tottime  percall  cumtime  percall filename:lineno(function)\n",
      "        1    0.018    0.018    0.021    0.021 {built-in method knn_chain.knn_chain}\n",
      "        2    0.003    0.001    0.003    0.001 ipkernel.py:770(_clean_thread_parent_frames)\n",
      "        1    0.000    0.000    0.000    0.000 threading.py:1478(enumerate)\n",
      "        1    0.000    0.000    0.021    0.021 <string>:1(<module>)\n",
      "        1    0.000    0.000    0.021    0.021 {built-in method builtins.exec}\n",
      "        7    0.000    0.000    0.000    0.000 threading.py:1145(ident)\n",
      "        1    0.000    0.000    0.000    0.000 ipkernel.py:785(<setcomp>)\n",
      "        2    0.000    0.000    0.000    0.000 {method 'values' of 'dict' objects}\n",
      "        1    0.000    0.000    0.000    0.000 {method 'disable' of '_lsprof.Profiler' objects}\n",
      "        4    0.000    0.000    0.000    0.000 {method 'keys' of 'dict' objects}\n",
      "        1    0.000    0.000    0.000    0.000 {method '__exit__' of '_thread.RLock' objects}\n",
      "        2    0.000    0.000    0.000    0.000 {built-in method builtins.isinstance}\n",
      "\n",
      "\n"
     ]
    }
   ],
   "source": [
    "cProfile.runctx(\"knn_chain(smallX, 5)\", globals(), locals(), \"Profile.prof\")\n",
    "s_5 = pstats.Stats(\"Profile.prof\")\n",
    "s_5.strip_dirs().sort_stats(\"time\").print_stats()"
   ]
  },
  {
   "cell_type": "code",
   "execution_count": 9,
   "metadata": {},
   "outputs": [
    {
     "name": "stdout",
     "output_type": "stream",
     "text": [
      "Thu Jul 18 12:33:44 2024    Profile.prof\n",
      "\n",
      "         24 function calls in 0.018 seconds\n",
      "\n",
      "   Ordered by: internal time\n",
      "\n",
      "   ncalls  tottime  percall  cumtime  percall filename:lineno(function)\n",
      "        1    0.017    0.017    0.018    0.018 {built-in method knn_chain.knn_chain}\n",
      "        2    0.000    0.000    0.000    0.000 ipkernel.py:770(_clean_thread_parent_frames)\n",
      "        1    0.000    0.000    0.018    0.018 <string>:1(<module>)\n",
      "        1    0.000    0.000    0.018    0.018 {built-in method builtins.exec}\n",
      "        1    0.000    0.000    0.000    0.000 threading.py:1478(enumerate)\n",
      "        7    0.000    0.000    0.000    0.000 threading.py:1145(ident)\n",
      "        1    0.000    0.000    0.000    0.000 ipkernel.py:785(<setcomp>)\n",
      "        2    0.000    0.000    0.000    0.000 {method 'values' of 'dict' objects}\n",
      "        4    0.000    0.000    0.000    0.000 {method 'keys' of 'dict' objects}\n",
      "        1    0.000    0.000    0.000    0.000 {method '__exit__' of '_thread.RLock' objects}\n",
      "        1    0.000    0.000    0.000    0.000 {method 'disable' of '_lsprof.Profiler' objects}\n",
      "        2    0.000    0.000    0.000    0.000 {built-in method builtins.isinstance}\n",
      "\n",
      "\n"
     ]
    }
   ],
   "source": [
    "cProfile.runctx(\"knn_chain(smallX, 6)\", globals(), locals(), \"Profile.prof\")\n",
    "s_6 = pstats.Stats(\"Profile.prof\")\n",
    "s_6.strip_dirs().sort_stats(\"time\").print_stats()"
   ]
  },
  {
   "cell_type": "code",
   "execution_count": 57,
   "metadata": {},
   "outputs": [],
   "source": [
    "ss_1 = 0.022\n",
    "ss_3 =  0.019\n",
    "ss_5 = 0.021\n",
    "ss_6 = 0.018 \n",
    "small_cpp_ks = [ss_1, ss_3, ss_5, ss_6]"
   ]
  },
  {
   "cell_type": "code",
   "execution_count": 8,
   "metadata": {},
   "outputs": [
    {
     "name": "stdout",
     "output_type": "stream",
     "text": [
      "Thu Jul 18 13:26:18 2024    Profile.prof\n",
      "\n",
      "         1124 function calls in 422.250 seconds\n",
      "\n",
      "   Ordered by: internal time\n",
      "\n",
      "   ncalls  tottime  percall  cumtime  percall filename:lineno(function)\n",
      "        1  422.242  422.242  422.245  422.245 {built-in method knn_chain.knn_chain}\n",
      "        1    0.005    0.005  422.249  422.249 <string>:1(<module>)\n",
      "      112    0.003    0.000    0.003    0.000 ipkernel.py:770(_clean_thread_parent_frames)\n",
      "       56    0.000    0.000    0.000    0.000 threading.py:1478(enumerate)\n",
      "       56    0.000    0.000    0.000    0.000 ipkernel.py:785(<setcomp>)\n",
      "      392    0.000    0.000    0.000    0.000 threading.py:1145(ident)\n",
      "        1    0.000    0.000  422.250  422.250 {built-in method builtins.exec}\n",
      "      224    0.000    0.000    0.000    0.000 {method 'keys' of 'dict' objects}\n",
      "      112    0.000    0.000    0.000    0.000 {method 'values' of 'dict' objects}\n",
      "       56    0.000    0.000    0.000    0.000 {method '__exit__' of '_thread.RLock' objects}\n",
      "      112    0.000    0.000    0.000    0.000 {built-in method builtins.isinstance}\n",
      "        1    0.000    0.000    0.000    0.000 {method 'disable' of '_lsprof.Profiler' objects}\n",
      "\n",
      "\n"
     ]
    }
   ],
   "source": [
    "cProfile.runctx(\"knn_chain(largeX, 1)\", globals(), locals(), \"Profile.prof\")\n",
    "s_1 = pstats.Stats(\"Profile.prof\")\n",
    "s_1.strip_dirs().sort_stats(\"time\").print_stats()"
   ]
  },
  {
   "cell_type": "code",
   "execution_count": 10,
   "metadata": {},
   "outputs": [
    {
     "name": "stdout",
     "output_type": "stream",
     "text": [
      "Thu Jul 18 13:32:53 2024    Profile.prof\n",
      "\n",
      "         1124 function calls in 308.546 seconds\n",
      "\n",
      "   Ordered by: internal time\n",
      "\n",
      "   ncalls  tottime  percall  cumtime  percall filename:lineno(function)\n",
      "        1  308.541  308.541  308.544  308.544 {built-in method knn_chain.knn_chain}\n",
      "        1    0.002    0.002  308.546  308.546 <string>:1(<module>)\n",
      "      112    0.002    0.000    0.002    0.000 ipkernel.py:770(_clean_thread_parent_frames)\n",
      "       56    0.000    0.000    0.000    0.000 threading.py:1478(enumerate)\n",
      "       56    0.000    0.000    0.000    0.000 ipkernel.py:785(<setcomp>)\n",
      "      392    0.000    0.000    0.000    0.000 threading.py:1145(ident)\n",
      "        1    0.000    0.000  308.546  308.546 {built-in method builtins.exec}\n",
      "      224    0.000    0.000    0.000    0.000 {method 'keys' of 'dict' objects}\n",
      "      112    0.000    0.000    0.000    0.000 {method 'values' of 'dict' objects}\n",
      "       56    0.000    0.000    0.000    0.000 {method '__exit__' of '_thread.RLock' objects}\n",
      "      112    0.000    0.000    0.000    0.000 {built-in method builtins.isinstance}\n",
      "        1    0.000    0.000    0.000    0.000 {method 'disable' of '_lsprof.Profiler' objects}\n",
      "\n",
      "\n"
     ]
    }
   ],
   "source": [
    "cProfile.runctx(\"knn_chain(largeX, 3)\", globals(), locals(), \"Profile.prof\")\n",
    "s_3 = pstats.Stats(\"Profile.prof\")\n",
    "s_3.strip_dirs().sort_stats(\"time\").print_stats()"
   ]
  },
  {
   "cell_type": "code",
   "execution_count": 11,
   "metadata": {},
   "outputs": [
    {
     "name": "stdout",
     "output_type": "stream",
     "text": [
      "Thu Jul 18 13:37:50 2024    Profile.prof\n",
      "\n",
      "         1124 function calls in 296.093 seconds\n",
      "\n",
      "   Ordered by: internal time\n",
      "\n",
      "   ncalls  tottime  percall  cumtime  percall filename:lineno(function)\n",
      "        1  296.088  296.088  296.091  296.091 {built-in method knn_chain.knn_chain}\n",
      "        1    0.002    0.002  296.093  296.093 <string>:1(<module>)\n",
      "      112    0.002    0.000    0.002    0.000 ipkernel.py:770(_clean_thread_parent_frames)\n",
      "       56    0.000    0.000    0.000    0.000 threading.py:1478(enumerate)\n",
      "       56    0.000    0.000    0.000    0.000 ipkernel.py:785(<setcomp>)\n",
      "      392    0.000    0.000    0.000    0.000 threading.py:1145(ident)\n",
      "        1    0.000    0.000  296.093  296.093 {built-in method builtins.exec}\n",
      "      224    0.000    0.000    0.000    0.000 {method 'keys' of 'dict' objects}\n",
      "      112    0.000    0.000    0.000    0.000 {method 'values' of 'dict' objects}\n",
      "       56    0.000    0.000    0.000    0.000 {method '__exit__' of '_thread.RLock' objects}\n",
      "      112    0.000    0.000    0.000    0.000 {built-in method builtins.isinstance}\n",
      "        1    0.000    0.000    0.000    0.000 {method 'disable' of '_lsprof.Profiler' objects}\n",
      "\n",
      "\n"
     ]
    }
   ],
   "source": [
    "cProfile.runctx(\"knn_chain(largeX, 5)\", globals(), locals(), \"Profile.prof\")\n",
    "s_5 = pstats.Stats(\"Profile.prof\")\n",
    "s_5.strip_dirs().sort_stats(\"time\").print_stats()"
   ]
  },
  {
   "cell_type": "code",
   "execution_count": 12,
   "metadata": {},
   "outputs": [
    {
     "name": "stdout",
     "output_type": "stream",
     "text": [
      "Thu Jul 18 13:42:41 2024    Profile.prof\n",
      "\n",
      "         1124 function calls in 291.600 seconds\n",
      "\n",
      "   Ordered by: internal time\n",
      "\n",
      "   ncalls  tottime  percall  cumtime  percall filename:lineno(function)\n",
      "        1  291.595  291.595  291.597  291.597 {built-in method knn_chain.knn_chain}\n",
      "        1    0.002    0.002  291.600  291.600 <string>:1(<module>)\n",
      "      112    0.002    0.000    0.003    0.000 ipkernel.py:770(_clean_thread_parent_frames)\n",
      "       56    0.000    0.000    0.000    0.000 threading.py:1478(enumerate)\n",
      "       56    0.000    0.000    0.000    0.000 ipkernel.py:785(<setcomp>)\n",
      "      392    0.000    0.000    0.000    0.000 threading.py:1145(ident)\n",
      "        1    0.000    0.000  291.600  291.600 {built-in method builtins.exec}\n",
      "      224    0.000    0.000    0.000    0.000 {method 'keys' of 'dict' objects}\n",
      "      112    0.000    0.000    0.000    0.000 {method 'values' of 'dict' objects}\n",
      "       56    0.000    0.000    0.000    0.000 {method '__exit__' of '_thread.RLock' objects}\n",
      "      112    0.000    0.000    0.000    0.000 {built-in method builtins.isinstance}\n",
      "        1    0.000    0.000    0.000    0.000 {method 'disable' of '_lsprof.Profiler' objects}\n",
      "\n",
      "\n"
     ]
    }
   ],
   "source": [
    "cProfile.runctx(\"knn_chain(largeX, 6)\", globals(), locals(), \"Profile.prof\")\n",
    "s_6 = pstats.Stats(\"Profile.prof\")\n",
    "s_6.strip_dirs().sort_stats(\"time\").print_stats()"
   ]
  },
  {
   "cell_type": "code",
   "execution_count": 84,
   "metadata": {},
   "outputs": [
    {
     "name": "stdout",
     "output_type": "stream",
     "text": [
      "Thu Jul 18 15:50:13 2024    Profile.prof\n",
      "\n",
      "         1180 function calls in 393.055 seconds\n",
      "\n",
      "   Ordered by: internal time\n",
      "\n",
      "   ncalls  tottime  percall  cumtime  percall filename:lineno(function)\n",
      "        1  393.050  393.050  393.052  393.052 {built-in method knn_chain.knn_chain}\n",
      "        1    0.002    0.002  393.055  393.055 <string>:1(<module>)\n",
      "      112    0.002    0.000    0.002    0.000 ipkernel.py:770(_clean_thread_parent_frames)\n",
      "       56    0.000    0.000    0.000    0.000 threading.py:1478(enumerate)\n",
      "       56    0.000    0.000    0.000    0.000 ipkernel.py:785(<setcomp>)\n",
      "      448    0.000    0.000    0.000    0.000 threading.py:1145(ident)\n",
      "        1    0.000    0.000  393.055  393.055 {built-in method builtins.exec}\n",
      "      224    0.000    0.000    0.000    0.000 {method 'keys' of 'dict' objects}\n",
      "      112    0.000    0.000    0.000    0.000 {method 'values' of 'dict' objects}\n",
      "       56    0.000    0.000    0.000    0.000 {method '__exit__' of '_thread.RLock' objects}\n",
      "      112    0.000    0.000    0.000    0.000 {built-in method builtins.isinstance}\n",
      "        1    0.000    0.000    0.000    0.000 {method 'disable' of '_lsprof.Profiler' objects}\n",
      "\n",
      "\n"
     ]
    },
    {
     "data": {
      "text/plain": [
       "<pstats.Stats at 0x7fb69d82f730>"
      ]
     },
     "execution_count": 84,
     "metadata": {},
     "output_type": "execute_result"
    }
   ],
   "source": [
    "cProfile.runctx(\"knn_chain(largeX, 16)\", globals(), locals(), \"Profile.prof\")\n",
    "s_16 = pstats.Stats(\"Profile.prof\")\n",
    "s_16.strip_dirs().sort_stats(\"time\").print_stats()"
   ]
  },
  {
   "cell_type": "code",
   "execution_count": 55,
   "metadata": {},
   "outputs": [],
   "source": [
    "ls_1 = 422.250\n",
    "ls_3 = 308.546\n",
    "ls_5 = 296.093\n",
    "ls_6 = 291.600\n",
    "large_cpp_ks = [ls_1, ls_3, ls_5, ls_6]\n",
    "l_scipy = 414.968 + 80.938"
   ]
  },
  {
   "cell_type": "code",
   "execution_count": 83,
   "metadata": {},
   "outputs": [
    {
     "data": {
      "image/png": "[encoded data removed]",
      "text/plain": [
       "<Figure size 640x480 with 1 Axes>"
      ]
     },
     "metadata": {},
     "output_type": "display_data"
    }
   ],
   "source": [
    "# Plotting\n",
    "_a = np.append(cpp_ks + small_cpp_ks, l_scipy) \n",
    "plt.plot(ks, small_cpp_ks, marker='.', c='#FFC107', label=\"knn-chain: X of shape 1k x 10\")\n",
    "plt.plot(ks, cpp_ks, marker='.', c='#D81B60', label=\"knn-chain: X of shape 10k x 100\")\n",
    "plt.plot(ks, large_cpp_ks, marker='.', c='#1E88E5', label=\"knn-chain: X of shape 40k x 100\")\n",
    "plt.scatter(0, l_scipy, marker='x', c='#004D40', label=\"nn-chain: X of shape 40k x 100\")\n",
    "\n",
    "for i, txt in enumerate(_a):\n",
    "    plt.text(ks[i % 4], _a[i], f'{txt:.2f}', ha='center', va='bottom')\n",
    "for i, txt in enumerate(large_cpp_ks):\n",
    "    plt.text(ks[i % 4], large_cpp_ks[i], f'{txt:.2f}', ha='center', va='top')   \n",
    "\n",
    "plt.yscale('log')\n",
    "\n",
    "# Moving the legend outside the plot\n",
    "plt.legend(loc=\"upper left\", bbox_to_anchor=(1, 1))\n",
    "plt.title(\"Execution time comparison\")\n",
    "plt.xlabel(\"Value of k\")\n",
    "plt.ylabel(\"Execution time in seconds\")\n",
    "plt.grid(c=\"#d3d3d3\")\n",
    "\n",
    "plt.subplots_adjust(left=.8, right=1.8, top=1.9, bottom=1)\n",
    "\n",
    "plt.show()"
   ]
  },
  {
   "cell_type": "markdown",
   "metadata": {},
   "source": [
    "## Memory Profiling"
   ]
  },
  {
   "cell_type": "markdown",
   "metadata": {},
   "source": [
    "- knn chain"
   ]
  },
  {
   "cell_type": "code",
   "execution_count": 25,
   "metadata": {},
   "outputs": [
    {
     "name": "stdout",
     "output_type": "stream",
     "text": [
      "(10002, 1916728)\n"
     ]
    }
   ],
   "source": [
    "tracemalloc.start()\n",
    "\n",
    "knn_chain(X, 1)\n",
    "\n",
    "print(tracemalloc.get_traced_memory())\n",
    "tracemalloc.stop()"
   ]
  },
  {
   "cell_type": "code",
   "execution_count": 24,
   "metadata": {},
   "outputs": [
    {
     "name": "stdout",
     "output_type": "stream",
     "text": [
      "(9180, 1912780)\n"
     ]
    }
   ],
   "source": [
    "tracemalloc.start()\n",
    "\n",
    "knn_chain(X, 3)\n",
    "\n",
    "print(tracemalloc.get_traced_memory())\n",
    "tracemalloc.stop()"
   ]
  },
  {
   "cell_type": "code",
   "execution_count": 5,
   "metadata": {},
   "outputs": [
    {
     "name": "stdout",
     "output_type": "stream",
     "text": [
      "(8822, 1919514)\n"
     ]
    }
   ],
   "source": [
    "tracemalloc.start()\n",
    "\n",
    "knn_chain(X, 5)\n",
    "\n",
    "print(tracemalloc.get_traced_memory())\n",
    "tracemalloc.stop()"
   ]
  },
  {
   "cell_type": "code",
   "execution_count": 6,
   "metadata": {},
   "outputs": [
    {
     "name": "stdout",
     "output_type": "stream",
     "text": [
      "(8343, 1915810)\n"
     ]
    }
   ],
   "source": [
    "tracemalloc.start()\n",
    "\n",
    "knn_chain(X, 6)\n",
    "\n",
    "print(tracemalloc.get_traced_memory())\n",
    "tracemalloc.stop()"
   ]
  },
  {
   "cell_type": "markdown",
   "metadata": {},
   "source": [
    "- SciPy"
   ]
  },
  {
   "cell_type": "code",
   "execution_count": 9,
   "metadata": {},
   "outputs": [
    {
     "name": "stdout",
     "output_type": "stream",
     "text": [
      "(404875046, 804841721)\n"
     ]
    }
   ],
   "source": [
    "tracemalloc.start()\n",
    "\n",
    "d = pdist(X)\n",
    "ward(d)\n",
    "\n",
    "print(tracemalloc.get_traced_memory())\n",
    "tracemalloc.stop()"
   ]
  },
  {
   "cell_type": "code",
   "execution_count": 13,
   "metadata": {},
   "outputs": [],
   "source": [
    "ks = [\"k = 1\", \"k = 3\", \"k = 5\", \"k = 6\"]\n",
    "peaks_knn = [1916728, 1912780, 1919514, 1915810]\n",
    "peak_scipy = [804841721, 0, 0, 0]"
   ]
  },
  {
   "cell_type": "code",
   "execution_count": 21,
   "metadata": {},
   "outputs": [
    {
     "data": {
      "image/png": "[encoded data removed]",
      "text/plain": [
       "<Figure size 640x480 with 1 Axes>"
      ]
     },
     "metadata": {},
     "output_type": "display_data"
    }
   ],
   "source": [
    "N = 4\n",
    "ind = np.arange(N)  \n",
    "width = 0.4\n",
    "  \n",
    "bar1 = plt.bar(ind, peaks_knn, width, color = '#D81B60') \n",
    "bar2 = plt.bar(ind+width, peak_scipy, width, color='#FFC107') \n",
    "\n",
    "for rect in bar1:\n",
    "    height = rect.get_height()\n",
    "    plt.text(rect.get_x() + rect.get_width() / 2.0, height, f'{height:,.0f}'.replace(',', ' '), fontsize=6, ha='center', va='bottom')\n",
    "\n",
    "height = bar2[0].get_height()\n",
    "plt.text(bar2[0].get_x() + bar2[0].get_width() / 2.0, height, f'{height:,.0f}'.replace(',', ' '), fontsize=6, ha='center', va='bottom')\n",
    "\n",
    "plt.yscale('log')\n",
    "\n",
    "plt.title(\"Peak Memory Consumption comparison\")\n",
    "plt.xlabel(\"Value of k\")\n",
    "plt.ylabel(\"Memory Usage\")\n",
    "  \n",
    "plt.xticks(ind+width,ks) \n",
    "plt.legend( (bar1, bar2), (\"C++ k-nn chain\", \"SciPy nn-chain\") ) \n",
    "plt.show() "
   ]
  },
  {
   "cell_type": "markdown",
   "metadata": {},
   "source": [
    "## Dendrogram to analyse correctness"
   ]
  },
  {
   "cell_type": "code",
   "execution_count": 6,
   "metadata": {},
   "outputs": [
    {
     "name": "stdout",
     "output_type": "stream",
     "text": [
      "Defaulting to user installation because normal site-packages is not writeable\n",
      "Collecting scikit-learn\n",
      "  Downloading scikit_learn-1.5.1-cp310-cp310-manylinux_2_17_x86_64.manylinux2014_x86_64.whl (13.4 MB)\n",
      "\u001b[2K     \u001b[90m━━━━━━━━━━━━━━━━━━━━━━━━━━━━━━━━━━━━━━━━\u001b[0m \u001b[32m13.4/13.4 MB\u001b[0m \u001b[31m37.0 MB/s\u001b[0m eta \u001b[36m0:00:00\u001b[0m00:01\u001b[0m00:01\u001b[0m\n",
      "\u001b[?25hRequirement already satisfied: scipy>=1.6.0 in /usr/lib/python3/dist-packages (from scikit-learn) (1.8.0)\n",
      "Requirement already satisfied: joblib>=1.2.0 in /home/infres/nnymand-23/.local/lib/python3.10/site-packages (from scikit-learn) (1.3.2)\n",
      "Collecting threadpoolctl>=3.1.0\n",
      "  Downloading threadpoolctl-3.5.0-py3-none-any.whl (18 kB)\n",
      "Requirement already satisfied: numpy>=1.19.5 in /home/infres/nnymand-23/.local/lib/python3.10/site-packages (from scikit-learn) (1.24.4)\n",
      "Installing collected packages: threadpoolctl, scikit-learn\n",
      "Successfully installed scikit-learn-1.5.1 threadpoolctl-3.5.0\n",
      "Note: you may need to restart the kernel to use updated packages.\n"
     ]
    }
   ],
   "source": [
    "pip install scikit-learn"
   ]
  },
  {
   "cell_type": "code",
   "execution_count": 12,
   "metadata": {},
   "outputs": [],
   "source": [
    "from sklearn.datasets import load_iris\n",
    "from scipy.cluster.hierarchy import dendrogram, linkage\n",
    "\n",
    "iris = load_iris()\n",
    "X = iris.data"
   ]
  },
  {
   "cell_type": "code",
   "execution_count": 10,
   "metadata": {},
   "outputs": [],
   "source": [
    "out1 = knn_chain(X, 1)"
   ]
  },
  {
   "cell_type": "code",
   "execution_count": 11,
   "metadata": {},
   "outputs": [],
   "source": [
    "y = pdist(X)\n",
    "out2 = ward(y)"
   ]
  },
  {
   "cell_type": "code",
   "execution_count": 18,
   "metadata": {},
   "outputs": [
    {
     "data": {
      "image/png": "[encoded data removed]",
      "text/plain": [
       "<Figure size 1000x700 with 1 Axes>"
      ]
     },
     "metadata": {},
     "output_type": "display_data"
    }
   ],
   "source": [
    "plt.figure(figsize=(10, 7))\n",
    "dendrogram(out1, labels=iris.target, leaf_rotation=90, leaf_font_size=10)\n",
    "plt.show()"
   ]
  },
  {
   "cell_type": "code",
   "execution_count": 19,
   "metadata": {},
   "outputs": [
    {
     "data": {
      "image/png": "[encoded data removed]",
      "text/plain": [
       "<Figure size 1000x700 with 1 Axes>"
      ]
     },
     "metadata": {},
     "output_type": "display_data"
    }
   ],
   "source": [
    "plt.figure(figsize=(10, 7))\n",
    "dendrogram(out2, labels=iris.target, leaf_rotation=90, leaf_font_size=10)\n",
    "plt.show()"
   ]
  },
  {
   "cell_type": "markdown",
   "metadata": {},
   "source": [
    "- prev results"
   ]
  },
  {
   "cell_type": "code",
   "execution_count": null,
   "metadata": {},
   "outputs": [],
   "source": [
    "# PREV RESULTS FOR IMPORTED LIB\n",
    "# k = 1 ==> 30 s\n",
    "# k = 6 ==> 18 s\n",
    "\n",
    "# avg = 0.0\n",
    "\n",
    "# for i in range(10):\n",
    "#     cProfile.runctx(\"knn_chain(X, 1)\", globals(), locals(), \"Profile.prof\")\n",
    "#     s = pstats.Stats(\"Profile.prof\")\n",
    "#     avg += s.strip_dirs().sort_stats(\"time\").total_tt\n",
    "    \n",
    "# print(f\"avg = {avg/10}\")\n",
    "# s.strip_dirs().sort_stats(\"time\").print_stats()"
   ]
  }
 ],
 "metadata": {
  "kernelspec": {
   "display_name": "Python 3",
   "language": "python",
   "name": "python3"
  },
  "language_info": {
   "codemirror_mode": {
    "name": "ipython",
    "version": 3
   },
   "file_extension": ".py",
   "mimetype": "text/x-python",
   "name": "python",
   "nbconvert_exporter": "python",
   "pygments_lexer": "ipython3",
   "version": "3.10.12"
  }
 },
 "nbformat": 4,
 "nbformat_minor": 2
}
